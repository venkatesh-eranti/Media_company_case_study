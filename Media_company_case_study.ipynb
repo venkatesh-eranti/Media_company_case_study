{
  "nbformat": 4,
  "nbformat_minor": 0,
  "metadata": {
    "colab": {
      "name": "Media_company_case_study.ipynb",
      "provenance": [],
      "collapsed_sections": [],
      "authorship_tag": "ABX9TyPfzAziI+wtZUEdZF7a4bA1",
      "include_colab_link": true
    },
    "kernelspec": {
      "name": "python3",
      "display_name": "Python 3"
    }
  },
  "cells": [
    {
      "cell_type": "markdown",
      "metadata": {
        "id": "view-in-github",
        "colab_type": "text"
      },
      "source": [
        "<a href=\"https://colab.research.google.com/github/venkatesh-eranti/Media_company_case_study/blob/main/Media_company_case_study.ipynb\" target=\"_parent\"><img src=\"https://colab.research.google.com/assets/colab-badge.svg\" alt=\"Open In Colab\"/></a>"
      ]
    },
    {
      "cell_type": "markdown",
      "metadata": {
        "id": "CqScF7_DvQQ4"
      },
      "source": [
        "**Problem Statement:** A digital media company (similar to Voot, Hotstar, Netflix, etc.) had launched a show. Initially, the show got a good response, but then witnessed a decline in viewership. The company wants to figure out what went wrong"
      ]
    },
    {
      "cell_type": "code",
      "metadata": {
        "id": "znVtg4PSrpo9"
      },
      "source": [
        "data='https://raw.githubusercontent.com/venkatesh-eranti/Media_company_case_study_multiple_linear_regression/main/mediacompany.csv'\n",
        "data_dictionary='https://raw.githubusercontent.com/venkatesh-eranti/Media_company_case_study_multiple_linear_regression/main/DataDictionary_mediacompany.csv'"
      ],
      "execution_count": 70,
      "outputs": []
    },
    {
      "cell_type": "markdown",
      "metadata": {
        "id": "deNgli0Ovrn6"
      },
      "source": [
        "# Reading and understanding the data"
      ]
    },
    {
      "cell_type": "markdown",
      "metadata": {
        "id": "M9uVjHkFvvtM"
      },
      "source": [
        "## importing the necessary librariers"
      ]
    },
    {
      "cell_type": "code",
      "metadata": {
        "id": "4PnckZHfvchV"
      },
      "source": [
        "# reading and processing the data\n",
        "import numpy as np\n",
        "import pandas as pd\n",
        "# visualisation libraries\n",
        "import seaborn as sns\n",
        "import matplotlib.pyplot as plt\n",
        "# supress the warnings\n",
        "import warnings\n",
        "warnings.filterwarnings('ignore')\n",
        "# splitting the data in to train and test\n",
        "from sklearn.model_selection import train_test_split\n",
        "# rescaling the features\n",
        "from sklearn.preprocessing import MinMaxScaler\n",
        "# feature selection using RFE\n",
        "from sklearn.feature_selection import RFE\n",
        "# to use RFE we need to build model with sklearn\n",
        "from sklearn.linear_model import LinearRegression\n",
        "# statsmoldes to build linear regression\n",
        "import statsmodels.api as sm\n",
        "# to check multicollinearity\n",
        "from statsmodels.stats.outliers_influence import variance_inflation_factor\n",
        "# evaluation metrics\n",
        "from sklearn.metrics import r2_score,mean_absolute_error,mean_squared_error"
      ],
      "execution_count": 71,
      "outputs": []
    },
    {
      "cell_type": "markdown",
      "metadata": {
        "id": "a0bene3KxFlN"
      },
      "source": [
        "## loading the data"
      ]
    },
    {
      "cell_type": "code",
      "metadata": {
        "id": "auCVWYoYxHIi"
      },
      "source": [
        "df=pd.read_csv(data)\n",
        "data_dictionary=pd.read_csv(data_dictionary)"
      ],
      "execution_count": 72,
      "outputs": []
    },
    {
      "cell_type": "code",
      "metadata": {
        "id": "_bygalr0xRUC",
        "outputId": "355afeac-a305-47e9-beae-f210b25b78da",
        "colab": {
          "base_uri": "https://localhost:8080/",
          "height": 198
        }
      },
      "source": [
        "df.head()"
      ],
      "execution_count": 73,
      "outputs": [
        {
          "output_type": "execute_result",
          "data": {
            "text/html": [
              "<div>\n",
              "<style scoped>\n",
              "    .dataframe tbody tr th:only-of-type {\n",
              "        vertical-align: middle;\n",
              "    }\n",
              "\n",
              "    .dataframe tbody tr th {\n",
              "        vertical-align: top;\n",
              "    }\n",
              "\n",
              "    .dataframe thead th {\n",
              "        text-align: right;\n",
              "    }\n",
              "</style>\n",
              "<table border=\"1\" class=\"dataframe\">\n",
              "  <thead>\n",
              "    <tr style=\"text-align: right;\">\n",
              "      <th></th>\n",
              "      <th>Date</th>\n",
              "      <th>Views_show</th>\n",
              "      <th>Visitors</th>\n",
              "      <th>Views_platform</th>\n",
              "      <th>Ad_impression</th>\n",
              "      <th>Cricket_match_india</th>\n",
              "      <th>Character_A</th>\n",
              "      <th>Unnamed: 7</th>\n",
              "    </tr>\n",
              "  </thead>\n",
              "  <tbody>\n",
              "    <tr>\n",
              "      <th>0</th>\n",
              "      <td>3/1/2017</td>\n",
              "      <td>183738</td>\n",
              "      <td>1260228</td>\n",
              "      <td>1706478</td>\n",
              "      <td>1060860448</td>\n",
              "      <td>0</td>\n",
              "      <td>0</td>\n",
              "      <td>NaN</td>\n",
              "    </tr>\n",
              "    <tr>\n",
              "      <th>1</th>\n",
              "      <td>3/2/2017</td>\n",
              "      <td>193763</td>\n",
              "      <td>1270561</td>\n",
              "      <td>1690727</td>\n",
              "      <td>1031846645</td>\n",
              "      <td>0</td>\n",
              "      <td>0</td>\n",
              "      <td>NaN</td>\n",
              "    </tr>\n",
              "    <tr>\n",
              "      <th>2</th>\n",
              "      <td>3/3/2017</td>\n",
              "      <td>210479</td>\n",
              "      <td>1248183</td>\n",
              "      <td>1726157</td>\n",
              "      <td>1010867575</td>\n",
              "      <td>0</td>\n",
              "      <td>0</td>\n",
              "      <td>NaN</td>\n",
              "    </tr>\n",
              "    <tr>\n",
              "      <th>3</th>\n",
              "      <td>3/4/2017</td>\n",
              "      <td>240061</td>\n",
              "      <td>1492913</td>\n",
              "      <td>1855353</td>\n",
              "      <td>1079194579</td>\n",
              "      <td>1</td>\n",
              "      <td>0</td>\n",
              "      <td>NaN</td>\n",
              "    </tr>\n",
              "    <tr>\n",
              "      <th>4</th>\n",
              "      <td>3/5/2017</td>\n",
              "      <td>446314</td>\n",
              "      <td>1594712</td>\n",
              "      <td>2041418</td>\n",
              "      <td>1357736987</td>\n",
              "      <td>0</td>\n",
              "      <td>0</td>\n",
              "      <td>NaN</td>\n",
              "    </tr>\n",
              "  </tbody>\n",
              "</table>\n",
              "</div>"
            ],
            "text/plain": [
              "       Date  Views_show  Visitors  ...  Cricket_match_india  Character_A  Unnamed: 7\n",
              "0  3/1/2017      183738   1260228  ...                    0            0         NaN\n",
              "1  3/2/2017      193763   1270561  ...                    0            0         NaN\n",
              "2  3/3/2017      210479   1248183  ...                    0            0         NaN\n",
              "3  3/4/2017      240061   1492913  ...                    1            0         NaN\n",
              "4  3/5/2017      446314   1594712  ...                    0            0         NaN\n",
              "\n",
              "[5 rows x 8 columns]"
            ]
          },
          "metadata": {
            "tags": []
          },
          "execution_count": 73
        }
      ]
    },
    {
      "cell_type": "code",
      "metadata": {
        "id": "oahdHSxJxZiS",
        "outputId": "d75d1e66-1eb3-43c9-875d-d530b979f730",
        "colab": {
          "base_uri": "https://localhost:8080/",
          "height": 228
        }
      },
      "source": [
        "data_dictionary"
      ],
      "execution_count": 74,
      "outputs": [
        {
          "output_type": "execute_result",
          "data": {
            "text/html": [
              "<div>\n",
              "<style scoped>\n",
              "    .dataframe tbody tr th:only-of-type {\n",
              "        vertical-align: middle;\n",
              "    }\n",
              "\n",
              "    .dataframe tbody tr th {\n",
              "        vertical-align: top;\n",
              "    }\n",
              "\n",
              "    .dataframe thead th {\n",
              "        text-align: right;\n",
              "    }\n",
              "</style>\n",
              "<table border=\"1\" class=\"dataframe\">\n",
              "  <thead>\n",
              "    <tr style=\"text-align: right;\">\n",
              "      <th></th>\n",
              "      <th>Variable</th>\n",
              "      <th>Explaination</th>\n",
              "    </tr>\n",
              "  </thead>\n",
              "  <tbody>\n",
              "    <tr>\n",
              "      <th>0</th>\n",
              "      <td>Views_show</td>\n",
              "      <td>Number of times the show was viewed</td>\n",
              "    </tr>\n",
              "    <tr>\n",
              "      <th>1</th>\n",
              "      <td>Visitors</td>\n",
              "      <td>Number of visitors who browsed the platform, b...</td>\n",
              "    </tr>\n",
              "    <tr>\n",
              "      <th>2</th>\n",
              "      <td>Views_platform</td>\n",
              "      <td>Number of times a video was viewed on the plat...</td>\n",
              "    </tr>\n",
              "    <tr>\n",
              "      <th>3</th>\n",
              "      <td>Ad_impression</td>\n",
              "      <td>Proxy for marketing budget. Represents number ...</td>\n",
              "    </tr>\n",
              "    <tr>\n",
              "      <th>4</th>\n",
              "      <td>Cricket_match_india</td>\n",
              "      <td>If a cricket match was being played. 1 indicat...</td>\n",
              "    </tr>\n",
              "    <tr>\n",
              "      <th>5</th>\n",
              "      <td>Character_A</td>\n",
              "      <td>Describes presence of Character A. 1 indicates...</td>\n",
              "    </tr>\n",
              "  </tbody>\n",
              "</table>\n",
              "</div>"
            ],
            "text/plain": [
              "              Variable                                       Explaination\n",
              "0           Views_show                Number of times the show was viewed\n",
              "1             Visitors  Number of visitors who browsed the platform, b...\n",
              "2       Views_platform  Number of times a video was viewed on the plat...\n",
              "3        Ad_impression  Proxy for marketing budget. Represents number ...\n",
              "4  Cricket_match_india  If a cricket match was being played. 1 indicat...\n",
              "5          Character_A  Describes presence of Character A. 1 indicates..."
            ]
          },
          "metadata": {
            "tags": []
          },
          "execution_count": 74
        }
      ]
    },
    {
      "cell_type": "markdown",
      "metadata": {
        "id": "KsRbsTUjJ9ob"
      },
      "source": [
        "to see the full text of a row with out truncation, we need to print it explicitly by using iloc or loc function"
      ]
    },
    {
      "cell_type": "code",
      "metadata": {
        "id": "8OT3IbriIPoH",
        "outputId": "376a5810-f8c5-46f5-a7b5-2c0242393492",
        "colab": {
          "base_uri": "https://localhost:8080/"
        }
      },
      "source": [
        "print(data_dictionary.iloc[0,0],'-->',data_dictionary.iloc[0,1])\n",
        "print(data_dictionary.iloc[1,0],'-->',data_dictionary.iloc[1,1])\n",
        "print(data_dictionary.iloc[2,0],'-->',data_dictionary.iloc[2,1])\n",
        "print(data_dictionary.iloc[3,0],'-->',data_dictionary.iloc[3,1])\n",
        "print(data_dictionary.iloc[4,0],'-->',data_dictionary.iloc[4,1])\n",
        "print(data_dictionary.iloc[5,0],'-->',data_dictionary.iloc[5,1])"
      ],
      "execution_count": 75,
      "outputs": [
        {
          "output_type": "stream",
          "text": [
            "Views_show --> Number of times the show was viewed\n",
            "Visitors --> Number of visitors who browsed the platform, but not necessarily watched a video. \n",
            "Views_platform --> Number of times a video was viewed on the platform \n",
            "Ad_impression --> Proxy for marketing budget. Represents number of impressions generated by ads\n",
            "Cricket_match_india --> If a cricket match was being played. 1 indicates that there was a match on a given day, 0 indicates there wasn't\n",
            "Character_A --> Describes presence of Character A. 1 indicates that character A was present in the episode, 0 indicates she/he wasn't\n"
          ],
          "name": "stdout"
        }
      ]
    },
    {
      "cell_type": "markdown",
      "metadata": {
        "id": "Q01BJ_Iwxlzw"
      },
      "source": [
        "## understanding the data"
      ]
    },
    {
      "cell_type": "code",
      "metadata": {
        "id": "K3blJrTNx73Z",
        "outputId": "ed675c9b-5056-463e-894f-459a30836513",
        "colab": {
          "base_uri": "https://localhost:8080/"
        }
      },
      "source": [
        "df.shape"
      ],
      "execution_count": 76,
      "outputs": [
        {
          "output_type": "execute_result",
          "data": {
            "text/plain": [
              "(80, 8)"
            ]
          },
          "metadata": {
            "tags": []
          },
          "execution_count": 76
        }
      ]
    },
    {
      "cell_type": "code",
      "metadata": {
        "id": "tFTkPtx2xbPR",
        "outputId": "305590b7-b6a3-4925-e01f-22917859bf38",
        "colab": {
          "base_uri": "https://localhost:8080/"
        }
      },
      "source": [
        "df.info()"
      ],
      "execution_count": 77,
      "outputs": [
        {
          "output_type": "stream",
          "text": [
            "<class 'pandas.core.frame.DataFrame'>\n",
            "RangeIndex: 80 entries, 0 to 79\n",
            "Data columns (total 8 columns):\n",
            " #   Column               Non-Null Count  Dtype  \n",
            "---  ------               --------------  -----  \n",
            " 0   Date                 80 non-null     object \n",
            " 1   Views_show           80 non-null     int64  \n",
            " 2   Visitors             80 non-null     int64  \n",
            " 3   Views_platform       80 non-null     int64  \n",
            " 4   Ad_impression        80 non-null     int64  \n",
            " 5   Cricket_match_india  80 non-null     int64  \n",
            " 6   Character_A          80 non-null     int64  \n",
            " 7   Unnamed: 7           0 non-null      float64\n",
            "dtypes: float64(1), int64(6), object(1)\n",
            "memory usage: 5.1+ KB\n"
          ],
          "name": "stdout"
        }
      ]
    },
    {
      "cell_type": "code",
      "metadata": {
        "id": "SqLgIswwx5Ob"
      },
      "source": [
        "# dropping Unnamed: 7 column as it dont have any data\n",
        "df.drop('Unnamed: 7',axis=1,inplace=True)"
      ],
      "execution_count": 78,
      "outputs": []
    },
    {
      "cell_type": "code",
      "metadata": {
        "id": "6ddjwhcoyNmf"
      },
      "source": [
        "# converting data column to datetime format instead of object\n",
        "df['Date']=pd.to_datetime(df['Date'])"
      ],
      "execution_count": 79,
      "outputs": []
    },
    {
      "cell_type": "code",
      "metadata": {
        "id": "KGyxmV5NyXIc",
        "outputId": "b194c609-d7f3-4746-ac51-c207a3e5d3ee",
        "colab": {
          "base_uri": "https://localhost:8080/",
          "height": 198
        }
      },
      "source": [
        "df.head()"
      ],
      "execution_count": 80,
      "outputs": [
        {
          "output_type": "execute_result",
          "data": {
            "text/html": [
              "<div>\n",
              "<style scoped>\n",
              "    .dataframe tbody tr th:only-of-type {\n",
              "        vertical-align: middle;\n",
              "    }\n",
              "\n",
              "    .dataframe tbody tr th {\n",
              "        vertical-align: top;\n",
              "    }\n",
              "\n",
              "    .dataframe thead th {\n",
              "        text-align: right;\n",
              "    }\n",
              "</style>\n",
              "<table border=\"1\" class=\"dataframe\">\n",
              "  <thead>\n",
              "    <tr style=\"text-align: right;\">\n",
              "      <th></th>\n",
              "      <th>Date</th>\n",
              "      <th>Views_show</th>\n",
              "      <th>Visitors</th>\n",
              "      <th>Views_platform</th>\n",
              "      <th>Ad_impression</th>\n",
              "      <th>Cricket_match_india</th>\n",
              "      <th>Character_A</th>\n",
              "    </tr>\n",
              "  </thead>\n",
              "  <tbody>\n",
              "    <tr>\n",
              "      <th>0</th>\n",
              "      <td>2017-03-01</td>\n",
              "      <td>183738</td>\n",
              "      <td>1260228</td>\n",
              "      <td>1706478</td>\n",
              "      <td>1060860448</td>\n",
              "      <td>0</td>\n",
              "      <td>0</td>\n",
              "    </tr>\n",
              "    <tr>\n",
              "      <th>1</th>\n",
              "      <td>2017-03-02</td>\n",
              "      <td>193763</td>\n",
              "      <td>1270561</td>\n",
              "      <td>1690727</td>\n",
              "      <td>1031846645</td>\n",
              "      <td>0</td>\n",
              "      <td>0</td>\n",
              "    </tr>\n",
              "    <tr>\n",
              "      <th>2</th>\n",
              "      <td>2017-03-03</td>\n",
              "      <td>210479</td>\n",
              "      <td>1248183</td>\n",
              "      <td>1726157</td>\n",
              "      <td>1010867575</td>\n",
              "      <td>0</td>\n",
              "      <td>0</td>\n",
              "    </tr>\n",
              "    <tr>\n",
              "      <th>3</th>\n",
              "      <td>2017-03-04</td>\n",
              "      <td>240061</td>\n",
              "      <td>1492913</td>\n",
              "      <td>1855353</td>\n",
              "      <td>1079194579</td>\n",
              "      <td>1</td>\n",
              "      <td>0</td>\n",
              "    </tr>\n",
              "    <tr>\n",
              "      <th>4</th>\n",
              "      <td>2017-03-05</td>\n",
              "      <td>446314</td>\n",
              "      <td>1594712</td>\n",
              "      <td>2041418</td>\n",
              "      <td>1357736987</td>\n",
              "      <td>0</td>\n",
              "      <td>0</td>\n",
              "    </tr>\n",
              "  </tbody>\n",
              "</table>\n",
              "</div>"
            ],
            "text/plain": [
              "        Date  Views_show  ...  Cricket_match_india  Character_A\n",
              "0 2017-03-01      183738  ...                    0            0\n",
              "1 2017-03-02      193763  ...                    0            0\n",
              "2 2017-03-03      210479  ...                    0            0\n",
              "3 2017-03-04      240061  ...                    1            0\n",
              "4 2017-03-05      446314  ...                    0            0\n",
              "\n",
              "[5 rows x 7 columns]"
            ]
          },
          "metadata": {
            "tags": []
          },
          "execution_count": 80
        }
      ]
    },
    {
      "cell_type": "markdown",
      "metadata": {
        "id": "KqSUassQKU67"
      },
      "source": [
        "# Visualising the data"
      ]
    },
    {
      "cell_type": "markdown",
      "metadata": {
        "id": "0uRZLY8HKicB"
      },
      "source": [
        "as per the problem statement **Visitors** are reducing for the show. <br> lets check that first"
      ]
    },
    {
      "cell_type": "code",
      "metadata": {
        "id": "EcWFwxEhMGZm",
        "outputId": "73c3f884-4266-4d38-f6f8-d4696a948de0",
        "colab": {
          "base_uri": "https://localhost:8080/"
        }
      },
      "source": [
        "# checking the span of dates,if any dates are missing \n",
        "df['Date'].diff().value_counts()"
      ],
      "execution_count": 81,
      "outputs": [
        {
          "output_type": "execute_result",
          "data": {
            "text/plain": [
              "1 days    79\n",
              "Name: Date, dtype: int64"
            ]
          },
          "metadata": {
            "tags": []
          },
          "execution_count": 81
        }
      ]
    },
    {
      "cell_type": "code",
      "metadata": {
        "id": "0PJPhwnKMqLM"
      },
      "source": [
        "# getting day number from start of show\n",
        "df['Day']=[day for day in range(1,len(df['Date'])+1)]"
      ],
      "execution_count": 82,
      "outputs": []
    },
    {
      "cell_type": "code",
      "metadata": {
        "id": "fsPb_EqXNvHA",
        "outputId": "73b37875-b038-4085-e823-f30b049a189a",
        "colab": {
          "base_uri": "https://localhost:8080/",
          "height": 108
        }
      },
      "source": [
        "df.head(2)"
      ],
      "execution_count": 83,
      "outputs": [
        {
          "output_type": "execute_result",
          "data": {
            "text/html": [
              "<div>\n",
              "<style scoped>\n",
              "    .dataframe tbody tr th:only-of-type {\n",
              "        vertical-align: middle;\n",
              "    }\n",
              "\n",
              "    .dataframe tbody tr th {\n",
              "        vertical-align: top;\n",
              "    }\n",
              "\n",
              "    .dataframe thead th {\n",
              "        text-align: right;\n",
              "    }\n",
              "</style>\n",
              "<table border=\"1\" class=\"dataframe\">\n",
              "  <thead>\n",
              "    <tr style=\"text-align: right;\">\n",
              "      <th></th>\n",
              "      <th>Date</th>\n",
              "      <th>Views_show</th>\n",
              "      <th>Visitors</th>\n",
              "      <th>Views_platform</th>\n",
              "      <th>Ad_impression</th>\n",
              "      <th>Cricket_match_india</th>\n",
              "      <th>Character_A</th>\n",
              "      <th>Day</th>\n",
              "    </tr>\n",
              "  </thead>\n",
              "  <tbody>\n",
              "    <tr>\n",
              "      <th>0</th>\n",
              "      <td>2017-03-01</td>\n",
              "      <td>183738</td>\n",
              "      <td>1260228</td>\n",
              "      <td>1706478</td>\n",
              "      <td>1060860448</td>\n",
              "      <td>0</td>\n",
              "      <td>0</td>\n",
              "      <td>1</td>\n",
              "    </tr>\n",
              "    <tr>\n",
              "      <th>1</th>\n",
              "      <td>2017-03-02</td>\n",
              "      <td>193763</td>\n",
              "      <td>1270561</td>\n",
              "      <td>1690727</td>\n",
              "      <td>1031846645</td>\n",
              "      <td>0</td>\n",
              "      <td>0</td>\n",
              "      <td>2</td>\n",
              "    </tr>\n",
              "  </tbody>\n",
              "</table>\n",
              "</div>"
            ],
            "text/plain": [
              "        Date  Views_show  Visitors  ...  Cricket_match_india  Character_A  Day\n",
              "0 2017-03-01      183738   1260228  ...                    0            0    1\n",
              "1 2017-03-02      193763   1270561  ...                    0            0    2\n",
              "\n",
              "[2 rows x 8 columns]"
            ]
          },
          "metadata": {
            "tags": []
          },
          "execution_count": 83
        }
      ]
    },
    {
      "cell_type": "code",
      "metadata": {
        "id": "UOuw4pJVSpkh",
        "outputId": "6deeabba-f4f5-47cd-dd03-3e893c3919b9",
        "colab": {
          "base_uri": "https://localhost:8080/",
          "height": 296
        }
      },
      "source": [
        "sns.lineplot(df['Day'],df['Views_show'])"
      ],
      "execution_count": 84,
      "outputs": [
        {
          "output_type": "execute_result",
          "data": {
            "text/plain": [
              "<matplotlib.axes._subplots.AxesSubplot at 0x7f40dd680f60>"
            ]
          },
          "metadata": {
            "tags": []
          },
          "execution_count": 84
        },
        {
          "output_type": "display_data",
          "data": {
            "image/png": "[encoded data removed]",
            "text/plain": [
              "<Figure size 432x288 with 1 Axes>"
            ]
          },
          "metadata": {
            "tags": [],
            "needs_background": "light"
          }
        }
      ]
    },
    {
      "cell_type": "markdown",
      "metadata": {
        "id": "wEHc3d1eSyPk"
      },
      "source": [
        "## observations from line plot\n",
        "1) as per the problem statement the peaks and as well as valleys of the line plot showed in decreasing trend <br>\n",
        "2) visitors count spiking seems to have some pattern(may be on some weekends it is raising) <br> let's check it"
      ]
    },
    {
      "cell_type": "code",
      "metadata": {
        "id": "dwMgbmvLTpUr"
      },
      "source": [
        "df['Day_name']=df['Date'].dt.day_name()"
      ],
      "execution_count": 85,
      "outputs": []
    },
    {
      "cell_type": "code",
      "metadata": {
        "id": "Ysoms_jsT0gE",
        "outputId": "92cd1e34-c576-4334-8578-336a73088e32",
        "colab": {
          "base_uri": "https://localhost:8080/"
        }
      },
      "source": [
        "df.groupby('Day_name')['Views_show'].sum().sort_values(ascending=False)"
      ],
      "execution_count": 86,
      "outputs": [
        {
          "output_type": "execute_result",
          "data": {
            "text/plain": [
              "Day_name\n",
              "Sunday       6591842\n",
              "Monday       3709831\n",
              "Saturday     3415315\n",
              "Tuesday      2699435\n",
              "Wednesday    2352461\n",
              "Friday       2236404\n",
              "Thursday     2186922\n",
              "Name: Views_show, dtype: int64"
            ]
          },
          "metadata": {
            "tags": []
          },
          "execution_count": 86
        }
      ]
    },
    {
      "cell_type": "markdown",
      "metadata": {
        "id": "pSJYCiYATk3Y"
      },
      "source": [
        "as expected it is spiking on weekends.<br> so adding a column with 1 as weekends and 0 as normal days"
      ]
    },
    {
      "cell_type": "code",
      "metadata": {
        "id": "_4C30eTgh_JH"
      },
      "source": [
        "df['Weekdend']=df['Day_name'].apply(lambda x: 1 if x=='Sunday' or x== 'Saturday' else 0)"
      ],
      "execution_count": 87,
      "outputs": []
    },
    {
      "cell_type": "code",
      "metadata": {
        "id": "l6WXPUuUhmVG",
        "outputId": "7e43e58a-ea4a-478d-e2b3-d87b19332417",
        "colab": {
          "base_uri": "https://localhost:8080/",
          "height": 198
        }
      },
      "source": [
        "df.head(5)"
      ],
      "execution_count": 88,
      "outputs": [
        {
          "output_type": "execute_result",
          "data": {
            "text/html": [
              "<div>\n",
              "<style scoped>\n",
              "    .dataframe tbody tr th:only-of-type {\n",
              "        vertical-align: middle;\n",
              "    }\n",
              "\n",
              "    .dataframe tbody tr th {\n",
              "        vertical-align: top;\n",
              "    }\n",
              "\n",
              "    .dataframe thead th {\n",
              "        text-align: right;\n",
              "    }\n",
              "</style>\n",
              "<table border=\"1\" class=\"dataframe\">\n",
              "  <thead>\n",
              "    <tr style=\"text-align: right;\">\n",
              "      <th></th>\n",
              "      <th>Date</th>\n",
              "      <th>Views_show</th>\n",
              "      <th>Visitors</th>\n",
              "      <th>Views_platform</th>\n",
              "      <th>Ad_impression</th>\n",
              "      <th>Cricket_match_india</th>\n",
              "      <th>Character_A</th>\n",
              "      <th>Day</th>\n",
              "      <th>Day_name</th>\n",
              "      <th>Weekdend</th>\n",
              "    </tr>\n",
              "  </thead>\n",
              "  <tbody>\n",
              "    <tr>\n",
              "      <th>0</th>\n",
              "      <td>2017-03-01</td>\n",
              "      <td>183738</td>\n",
              "      <td>1260228</td>\n",
              "      <td>1706478</td>\n",
              "      <td>1060860448</td>\n",
              "      <td>0</td>\n",
              "      <td>0</td>\n",
              "      <td>1</td>\n",
              "      <td>Wednesday</td>\n",
              "      <td>0</td>\n",
              "    </tr>\n",
              "    <tr>\n",
              "      <th>1</th>\n",
              "      <td>2017-03-02</td>\n",
              "      <td>193763</td>\n",
              "      <td>1270561</td>\n",
              "      <td>1690727</td>\n",
              "      <td>1031846645</td>\n",
              "      <td>0</td>\n",
              "      <td>0</td>\n",
              "      <td>2</td>\n",
              "      <td>Thursday</td>\n",
              "      <td>0</td>\n",
              "    </tr>\n",
              "    <tr>\n",
              "      <th>2</th>\n",
              "      <td>2017-03-03</td>\n",
              "      <td>210479</td>\n",
              "      <td>1248183</td>\n",
              "      <td>1726157</td>\n",
              "      <td>1010867575</td>\n",
              "      <td>0</td>\n",
              "      <td>0</td>\n",
              "      <td>3</td>\n",
              "      <td>Friday</td>\n",
              "      <td>0</td>\n",
              "    </tr>\n",
              "    <tr>\n",
              "      <th>3</th>\n",
              "      <td>2017-03-04</td>\n",
              "      <td>240061</td>\n",
              "      <td>1492913</td>\n",
              "      <td>1855353</td>\n",
              "      <td>1079194579</td>\n",
              "      <td>1</td>\n",
              "      <td>0</td>\n",
              "      <td>4</td>\n",
              "      <td>Saturday</td>\n",
              "      <td>1</td>\n",
              "    </tr>\n",
              "    <tr>\n",
              "      <th>4</th>\n",
              "      <td>2017-03-05</td>\n",
              "      <td>446314</td>\n",
              "      <td>1594712</td>\n",
              "      <td>2041418</td>\n",
              "      <td>1357736987</td>\n",
              "      <td>0</td>\n",
              "      <td>0</td>\n",
              "      <td>5</td>\n",
              "      <td>Sunday</td>\n",
              "      <td>1</td>\n",
              "    </tr>\n",
              "  </tbody>\n",
              "</table>\n",
              "</div>"
            ],
            "text/plain": [
              "        Date  Views_show  Visitors  ...  Day   Day_name  Weekdend\n",
              "0 2017-03-01      183738   1260228  ...    1  Wednesday         0\n",
              "1 2017-03-02      193763   1270561  ...    2   Thursday         0\n",
              "2 2017-03-03      210479   1248183  ...    3     Friday         0\n",
              "3 2017-03-04      240061   1492913  ...    4   Saturday         1\n",
              "4 2017-03-05      446314   1594712  ...    5     Sunday         1\n",
              "\n",
              "[5 rows x 10 columns]"
            ]
          },
          "metadata": {
            "tags": []
          },
          "execution_count": 88
        }
      ]
    },
    {
      "cell_type": "markdown",
      "metadata": {
        "id": "kQRqBsevY7mU"
      },
      "source": [
        "## plotting pair plot to check the correlations"
      ]
    },
    {
      "cell_type": "code",
      "metadata": {
        "id": "C60IqT1xWx3h",
        "outputId": "d963452d-14a1-431c-d376-dd3aefa35451",
        "colab": {
          "base_uri": "https://localhost:8080/",
          "height": 1000
        }
      },
      "source": [
        "sns.pairplot(df,diag_kind='kde')"
      ],
      "execution_count": 89,
      "outputs": [
        {
          "output_type": "execute_result",
          "data": {
            "text/plain": [
              "<seaborn.axisgrid.PairGrid at 0x7f40dd5846a0>"
            ]
          },
          "metadata": {
            "tags": []
          },
          "execution_count": 89
        },
        {
          "output_type": "display_data",
          "data": {
            "image/png": "[encoded data removed]",
            "text/plain": [
              "<Figure size 1440x1440 with 72 Axes>"
            ]
          },
          "metadata": {
            "tags": [],
            "needs_background": "light"
          }
        }
      ]
    },
    {
      "cell_type": "markdown",
      "metadata": {
        "id": "TJGe01lGnYNX"
      },
      "source": [
        "## plotting heatmap to check correaltion"
      ]
    },
    {
      "cell_type": "code",
      "metadata": {
        "id": "pqKtUUjZnXgM",
        "outputId": "611a6472-72b5-4d14-98a2-1c4bf4231e0e",
        "colab": {
          "base_uri": "https://localhost:8080/",
          "height": 486
        }
      },
      "source": [
        "plt.figure(figsize=(8,6))\n",
        "sns.heatmap(df.corr(),annot=True,cmap='RdYlGn')"
      ],
      "execution_count": 90,
      "outputs": [
        {
          "output_type": "execute_result",
          "data": {
            "text/plain": [
              "<matplotlib.axes._subplots.AxesSubplot at 0x7f40dd77df60>"
            ]
          },
          "metadata": {
            "tags": []
          },
          "execution_count": 90
        },
        {
          "output_type": "display_data",
          "data": {
            "image/png": "[encoded data removed]",
            "text/plain": [
              "<Figure size 576x432 with 2 Axes>"
            ]
          },
          "metadata": {
            "tags": [],
            "needs_background": "light"
          }
        }
      ]
    },
    {
      "cell_type": "code",
      "metadata": {
        "id": "P1Ncgsj7qHq6"
      },
      "source": [
        "# making ad_impressions in millions\n",
        "df['Ad_impression_million']=df['Ad_impression']/1000000"
      ],
      "execution_count": 91,
      "outputs": []
    },
    {
      "cell_type": "code",
      "metadata": {
        "id": "-gKg9RNeqkCP"
      },
      "source": [
        "df.drop('Ad_impression',axis=1,inplace=True)"
      ],
      "execution_count": 92,
      "outputs": []
    },
    {
      "cell_type": "code",
      "metadata": {
        "id": "V1hH4pbUqWvJ",
        "outputId": "29739e8a-a7a4-4a34-9f43-63f3cdc3f917",
        "colab": {
          "base_uri": "https://localhost:8080/",
          "height": 108
        }
      },
      "source": [
        "df.head(2)"
      ],
      "execution_count": 93,
      "outputs": [
        {
          "output_type": "execute_result",
          "data": {
            "text/html": [
              "<div>\n",
              "<style scoped>\n",
              "    .dataframe tbody tr th:only-of-type {\n",
              "        vertical-align: middle;\n",
              "    }\n",
              "\n",
              "    .dataframe tbody tr th {\n",
              "        vertical-align: top;\n",
              "    }\n",
              "\n",
              "    .dataframe thead th {\n",
              "        text-align: right;\n",
              "    }\n",
              "</style>\n",
              "<table border=\"1\" class=\"dataframe\">\n",
              "  <thead>\n",
              "    <tr style=\"text-align: right;\">\n",
              "      <th></th>\n",
              "      <th>Date</th>\n",
              "      <th>Views_show</th>\n",
              "      <th>Visitors</th>\n",
              "      <th>Views_platform</th>\n",
              "      <th>Cricket_match_india</th>\n",
              "      <th>Character_A</th>\n",
              "      <th>Day</th>\n",
              "      <th>Day_name</th>\n",
              "      <th>Weekdend</th>\n",
              "      <th>Ad_impression_million</th>\n",
              "    </tr>\n",
              "  </thead>\n",
              "  <tbody>\n",
              "    <tr>\n",
              "      <th>0</th>\n",
              "      <td>2017-03-01</td>\n",
              "      <td>183738</td>\n",
              "      <td>1260228</td>\n",
              "      <td>1706478</td>\n",
              "      <td>0</td>\n",
              "      <td>0</td>\n",
              "      <td>1</td>\n",
              "      <td>Wednesday</td>\n",
              "      <td>0</td>\n",
              "      <td>1060.860448</td>\n",
              "    </tr>\n",
              "    <tr>\n",
              "      <th>1</th>\n",
              "      <td>2017-03-02</td>\n",
              "      <td>193763</td>\n",
              "      <td>1270561</td>\n",
              "      <td>1690727</td>\n",
              "      <td>0</td>\n",
              "      <td>0</td>\n",
              "      <td>2</td>\n",
              "      <td>Thursday</td>\n",
              "      <td>0</td>\n",
              "      <td>1031.846645</td>\n",
              "    </tr>\n",
              "  </tbody>\n",
              "</table>\n",
              "</div>"
            ],
            "text/plain": [
              "        Date  Views_show  Visitors  ...   Day_name  Weekdend  Ad_impression_million\n",
              "0 2017-03-01      183738   1260228  ...  Wednesday         0            1060.860448\n",
              "1 2017-03-02      193763   1270561  ...   Thursday         0            1031.846645\n",
              "\n",
              "[2 rows x 10 columns]"
            ]
          },
          "metadata": {
            "tags": []
          },
          "execution_count": 93
        }
      ]
    },
    {
      "cell_type": "markdown",
      "metadata": {
        "id": "Rymr6nw3qa21"
      },
      "source": [
        "# splitting training and testing data"
      ]
    },
    {
      "cell_type": "markdown",
      "metadata": {
        "id": "ROv0vX8drbkv"
      },
      "source": [
        "considering Visitors,Views_paltform,Character_A, weekend and Ad_impressions from heatmap and pairplot"
      ]
    },
    {
      "cell_type": "code",
      "metadata": {
        "id": "JxB_y8irqX2l"
      },
      "source": [
        "x=df.drop(['Date','Cricket_match_india','Day','Day_name','Views_show'],axis=1)\n",
        "y=df['Views_show']"
      ],
      "execution_count": 94,
      "outputs": []
    },
    {
      "cell_type": "markdown",
      "metadata": {
        "id": "IkLs9ZdAsysC"
      },
      "source": [
        "we dont have luxury of splitting the data in to train and test as we have less data"
      ]
    },
    {
      "cell_type": "markdown",
      "metadata": {
        "id": "HTn9qNKis73k"
      },
      "source": [
        "# building the model"
      ]
    },
    {
      "cell_type": "markdown",
      "metadata": {
        "id": "RB7SLqLyuQ05"
      },
      "source": [
        "## first linear model (lm1)"
      ]
    },
    {
      "cell_type": "code",
      "metadata": {
        "id": "F4zguffNq-td",
        "outputId": "62bb3bd9-8722-47aa-8a43-e523c289c8bd",
        "colab": {
          "base_uri": "https://localhost:8080/",
          "height": 553
        }
      },
      "source": [
        "lm1=sm.OLS(y,sm.add_constant(x)).fit()\n",
        "lm1.summary()"
      ],
      "execution_count": 95,
      "outputs": [
        {
          "output_type": "execute_result",
          "data": {
            "text/html": [
              "<table class=\"simpletable\">\n",
              "<caption>OLS Regression Results</caption>\n",
              "<tr>\n",
              "  <th>Dep. Variable:</th>       <td>Views_show</td>    <th>  R-squared:         </th> <td>   0.823</td>\n",
              "</tr>\n",
              "<tr>\n",
              "  <th>Model:</th>                   <td>OLS</td>       <th>  Adj. R-squared:    </th> <td>   0.811</td>\n",
              "</tr>\n",
              "<tr>\n",
              "  <th>Method:</th>             <td>Least Squares</td>  <th>  F-statistic:       </th> <td>   68.98</td>\n",
              "</tr>\n",
              "<tr>\n",
              "  <th>Date:</th>             <td>Sat, 14 Nov 2020</td> <th>  Prob (F-statistic):</th> <td>1.87e-26</td>\n",
              "</tr>\n",
              "<tr>\n",
              "  <th>Time:</th>                 <td>07:05:50</td>     <th>  Log-Likelihood:    </th> <td> -999.73</td>\n",
              "</tr>\n",
              "<tr>\n",
              "  <th>No. Observations:</th>      <td>    80</td>      <th>  AIC:               </th> <td>   2011.</td>\n",
              "</tr>\n",
              "<tr>\n",
              "  <th>Df Residuals:</th>          <td>    74</td>      <th>  BIC:               </th> <td>   2026.</td>\n",
              "</tr>\n",
              "<tr>\n",
              "  <th>Df Model:</th>              <td>     5</td>      <th>                     </th>     <td> </td>   \n",
              "</tr>\n",
              "<tr>\n",
              "  <th>Covariance Type:</th>      <td>nonrobust</td>    <th>                     </th>     <td> </td>   \n",
              "</tr>\n",
              "</table>\n",
              "<table class=\"simpletable\">\n",
              "<tr>\n",
              "            <td></td>               <th>coef</th>     <th>std err</th>      <th>t</th>      <th>P>|t|</th>  <th>[0.025</th>    <th>0.975]</th>  \n",
              "</tr>\n",
              "<tr>\n",
              "  <th>const</th>                 <td>-3.645e+05</td> <td>  7.2e+04</td> <td>   -5.064</td> <td> 0.000</td> <td>-5.08e+05</td> <td>-2.21e+05</td>\n",
              "</tr>\n",
              "<tr>\n",
              "  <th>Visitors</th>              <td>   -0.3269</td> <td>    0.124</td> <td>   -2.646</td> <td> 0.010</td> <td>   -0.573</td> <td>   -0.081</td>\n",
              "</tr>\n",
              "<tr>\n",
              "  <th>Views_platform</th>        <td>    0.3062</td> <td>    0.105</td> <td>    2.923</td> <td> 0.005</td> <td>    0.097</td> <td>    0.515</td>\n",
              "</tr>\n",
              "<tr>\n",
              "  <th>Character_A</th>           <td>-7.556e+04</td> <td>  2.6e+04</td> <td>   -2.908</td> <td> 0.005</td> <td>-1.27e+05</td> <td>-2.38e+04</td>\n",
              "</tr>\n",
              "<tr>\n",
              "  <th>Weekdend</th>              <td>  1.52e+05</td> <td> 1.94e+04</td> <td>    7.820</td> <td> 0.000</td> <td> 1.13e+05</td> <td> 1.91e+05</td>\n",
              "</tr>\n",
              "<tr>\n",
              "  <th>Ad_impression_million</th> <td>  357.7700</td> <td>   37.738</td> <td>    9.480</td> <td> 0.000</td> <td>  282.575</td> <td>  432.965</td>\n",
              "</tr>\n",
              "</table>\n",
              "<table class=\"simpletable\">\n",
              "<tr>\n",
              "  <th>Omnibus:</th>       <td> 5.595</td> <th>  Durbin-Watson:     </th> <td>   1.140</td>\n",
              "</tr>\n",
              "<tr>\n",
              "  <th>Prob(Omnibus):</th> <td> 0.061</td> <th>  Jarque-Bera (JB):  </th> <td>   4.939</td>\n",
              "</tr>\n",
              "<tr>\n",
              "  <th>Skew:</th>          <td> 0.588</td> <th>  Prob(JB):          </th> <td>  0.0846</td>\n",
              "</tr>\n",
              "<tr>\n",
              "  <th>Kurtosis:</th>      <td> 3.313</td> <th>  Cond. No.          </th> <td>2.76e+07</td>\n",
              "</tr>\n",
              "</table><br/><br/>Warnings:<br/>[1] Standard Errors assume that the covariance matrix of the errors is correctly specified.<br/>[2] The condition number is large, 2.76e+07. This might indicate that there are<br/>strong multicollinearity or other numerical problems."
            ],
            "text/plain": [
              "<class 'statsmodels.iolib.summary.Summary'>\n",
              "\"\"\"\n",
              "                            OLS Regression Results                            \n",
              "==============================================================================\n",
              "Dep. Variable:             Views_show   R-squared:                       0.823\n",
              "Model:                            OLS   Adj. R-squared:                  0.811\n",
              "Method:                 Least Squares   F-statistic:                     68.98\n",
              "Date:                Sat, 14 Nov 2020   Prob (F-statistic):           1.87e-26\n",
              "Time:                        07:05:50   Log-Likelihood:                -999.73\n",
              "No. Observations:                  80   AIC:                             2011.\n",
              "Df Residuals:                      74   BIC:                             2026.\n",
              "Df Model:                           5                                         \n",
              "Covariance Type:            nonrobust                                         \n",
              "=========================================================================================\n",
              "                            coef    std err          t      P>|t|      [0.025      0.975]\n",
              "-----------------------------------------------------------------------------------------\n",
              "const                 -3.645e+05    7.2e+04     -5.064      0.000   -5.08e+05   -2.21e+05\n",
              "Visitors                 -0.3269      0.124     -2.646      0.010      -0.573      -0.081\n",
              "Views_platform            0.3062      0.105      2.923      0.005       0.097       0.515\n",
              "Character_A           -7.556e+04    2.6e+04     -2.908      0.005   -1.27e+05   -2.38e+04\n",
              "Weekdend                1.52e+05   1.94e+04      7.820      0.000    1.13e+05    1.91e+05\n",
              "Ad_impression_million   357.7700     37.738      9.480      0.000     282.575     432.965\n",
              "==============================================================================\n",
              "Omnibus:                        5.595   Durbin-Watson:                   1.140\n",
              "Prob(Omnibus):                  0.061   Jarque-Bera (JB):                4.939\n",
              "Skew:                           0.588   Prob(JB):                       0.0846\n",
              "Kurtosis:                       3.313   Cond. No.                     2.76e+07\n",
              "==============================================================================\n",
              "\n",
              "Warnings:\n",
              "[1] Standard Errors assume that the covariance matrix of the errors is correctly specified.\n",
              "[2] The condition number is large, 2.76e+07. This might indicate that there are\n",
              "strong multicollinearity or other numerical problems.\n",
              "\"\"\""
            ]
          },
          "metadata": {
            "tags": []
          },
          "execution_count": 95
        }
      ]
    },
    {
      "cell_type": "markdown",
      "metadata": {
        "id": "n4TPjjvjtaVG"
      },
      "source": [
        "### observations of lm1 model:\n",
        "1) as, there is some difference between $R^2$ and $Adjusted-R^2$ there is still a room to reduce features <br> 2) P-value for visitors is more than 0.05. so need to remove this feature <br> 3) Charatcter_A showing negative coefficient with Views_show.(need further investigation on this)\n"
      ]
    },
    {
      "cell_type": "markdown",
      "metadata": {
        "id": "lEJ89ltsuZKw"
      },
      "source": [
        "##linear model (lm2)"
      ]
    },
    {
      "cell_type": "code",
      "metadata": {
        "id": "R3C6V-ZZtE8Z"
      },
      "source": [
        "x_Visitors=x.drop('Visitors',axis=1)"
      ],
      "execution_count": 96,
      "outputs": []
    },
    {
      "cell_type": "code",
      "metadata": {
        "id": "MLSfG3rwucma",
        "outputId": "696f0e9e-80a5-4783-de0d-a2e9e2567d74",
        "colab": {
          "base_uri": "https://localhost:8080/",
          "height": 533
        }
      },
      "source": [
        "lm2=sm.OLS(y,sm.add_constant(x_Visitors)).fit()\n",
        "lm2.summary()"
      ],
      "execution_count": 97,
      "outputs": [
        {
          "output_type": "execute_result",
          "data": {
            "text/html": [
              "<table class=\"simpletable\">\n",
              "<caption>OLS Regression Results</caption>\n",
              "<tr>\n",
              "  <th>Dep. Variable:</th>       <td>Views_show</td>    <th>  R-squared:         </th> <td>   0.807</td>\n",
              "</tr>\n",
              "<tr>\n",
              "  <th>Model:</th>                   <td>OLS</td>       <th>  Adj. R-squared:    </th> <td>   0.796</td>\n",
              "</tr>\n",
              "<tr>\n",
              "  <th>Method:</th>             <td>Least Squares</td>  <th>  F-statistic:       </th> <td>   78.21</td>\n",
              "</tr>\n",
              "<tr>\n",
              "  <th>Date:</th>             <td>Sat, 14 Nov 2020</td> <th>  Prob (F-statistic):</th> <td>5.42e-26</td>\n",
              "</tr>\n",
              "<tr>\n",
              "  <th>Time:</th>                 <td>07:05:50</td>     <th>  Log-Likelihood:    </th> <td> -1003.3</td>\n",
              "</tr>\n",
              "<tr>\n",
              "  <th>No. Observations:</th>      <td>    80</td>      <th>  AIC:               </th> <td>   2017.</td>\n",
              "</tr>\n",
              "<tr>\n",
              "  <th>Df Residuals:</th>          <td>    75</td>      <th>  BIC:               </th> <td>   2029.</td>\n",
              "</tr>\n",
              "<tr>\n",
              "  <th>Df Model:</th>              <td>     4</td>      <th>                     </th>     <td> </td>   \n",
              "</tr>\n",
              "<tr>\n",
              "  <th>Covariance Type:</th>      <td>nonrobust</td>    <th>                     </th>     <td> </td>   \n",
              "</tr>\n",
              "</table>\n",
              "<table class=\"simpletable\">\n",
              "<tr>\n",
              "            <td></td>               <th>coef</th>     <th>std err</th>      <th>t</th>      <th>P>|t|</th>  <th>[0.025</th>    <th>0.975]</th>  \n",
              "</tr>\n",
              "<tr>\n",
              "  <th>const</th>                 <td>-3.369e+05</td> <td>  7.4e+04</td> <td>   -4.552</td> <td> 0.000</td> <td>-4.84e+05</td> <td>-1.89e+05</td>\n",
              "</tr>\n",
              "<tr>\n",
              "  <th>Views_platform</th>        <td>    0.0442</td> <td>    0.036</td> <td>    1.244</td> <td> 0.218</td> <td>   -0.027</td> <td>    0.115</td>\n",
              "</tr>\n",
              "<tr>\n",
              "  <th>Character_A</th>           <td>-3.468e+04</td> <td> 2.17e+04</td> <td>   -1.597</td> <td> 0.114</td> <td>-7.79e+04</td> <td> 8575.698</td>\n",
              "</tr>\n",
              "<tr>\n",
              "  <th>Weekdend</th>              <td> 1.429e+05</td> <td> 1.99e+04</td> <td>    7.187</td> <td> 0.000</td> <td> 1.03e+05</td> <td> 1.82e+05</td>\n",
              "</tr>\n",
              "<tr>\n",
              "  <th>Ad_impression_million</th> <td>  348.1848</td> <td>   39.038</td> <td>    8.919</td> <td> 0.000</td> <td>  270.417</td> <td>  425.953</td>\n",
              "</tr>\n",
              "</table>\n",
              "<table class=\"simpletable\">\n",
              "<tr>\n",
              "  <th>Omnibus:</th>       <td> 5.130</td> <th>  Durbin-Watson:     </th> <td>   1.142</td>\n",
              "</tr>\n",
              "<tr>\n",
              "  <th>Prob(Omnibus):</th> <td> 0.077</td> <th>  Jarque-Bera (JB):  </th> <td>   4.394</td>\n",
              "</tr>\n",
              "<tr>\n",
              "  <th>Skew:</th>          <td> 0.544</td> <th>  Prob(JB):          </th> <td>   0.111</td>\n",
              "</tr>\n",
              "<tr>\n",
              "  <th>Kurtosis:</th>      <td> 3.369</td> <th>  Cond. No.          </th> <td>2.16e+07</td>\n",
              "</tr>\n",
              "</table><br/><br/>Warnings:<br/>[1] Standard Errors assume that the covariance matrix of the errors is correctly specified.<br/>[2] The condition number is large, 2.16e+07. This might indicate that there are<br/>strong multicollinearity or other numerical problems."
            ],
            "text/plain": [
              "<class 'statsmodels.iolib.summary.Summary'>\n",
              "\"\"\"\n",
              "                            OLS Regression Results                            \n",
              "==============================================================================\n",
              "Dep. Variable:             Views_show   R-squared:                       0.807\n",
              "Model:                            OLS   Adj. R-squared:                  0.796\n",
              "Method:                 Least Squares   F-statistic:                     78.21\n",
              "Date:                Sat, 14 Nov 2020   Prob (F-statistic):           5.42e-26\n",
              "Time:                        07:05:50   Log-Likelihood:                -1003.3\n",
              "No. Observations:                  80   AIC:                             2017.\n",
              "Df Residuals:                      75   BIC:                             2029.\n",
              "Df Model:                           4                                         \n",
              "Covariance Type:            nonrobust                                         \n",
              "=========================================================================================\n",
              "                            coef    std err          t      P>|t|      [0.025      0.975]\n",
              "-----------------------------------------------------------------------------------------\n",
              "const                 -3.369e+05    7.4e+04     -4.552      0.000   -4.84e+05   -1.89e+05\n",
              "Views_platform            0.0442      0.036      1.244      0.218      -0.027       0.115\n",
              "Character_A           -3.468e+04   2.17e+04     -1.597      0.114   -7.79e+04    8575.698\n",
              "Weekdend               1.429e+05   1.99e+04      7.187      0.000    1.03e+05    1.82e+05\n",
              "Ad_impression_million   348.1848     39.038      8.919      0.000     270.417     425.953\n",
              "==============================================================================\n",
              "Omnibus:                        5.130   Durbin-Watson:                   1.142\n",
              "Prob(Omnibus):                  0.077   Jarque-Bera (JB):                4.394\n",
              "Skew:                           0.544   Prob(JB):                        0.111\n",
              "Kurtosis:                       3.369   Cond. No.                     2.16e+07\n",
              "==============================================================================\n",
              "\n",
              "Warnings:\n",
              "[1] Standard Errors assume that the covariance matrix of the errors is correctly specified.\n",
              "[2] The condition number is large, 2.16e+07. This might indicate that there are\n",
              "strong multicollinearity or other numerical problems.\n",
              "\"\"\""
            ]
          },
          "metadata": {
            "tags": []
          },
          "execution_count": 97
        }
      ]
    },
    {
      "cell_type": "markdown",
      "metadata": {
        "id": "E_jk1euku46C"
      },
      "source": [
        "### observations of lm2 model:\n",
        "1) as, there is still some difference between $R^2$ and $Adjusted-R^2$ there is still a room to reduce features <br> 2) P-value for Views_platform is more than 0.05. so need to remove this feature <br> 3) Charatcter_A is still showing negative coefficient with Views_show.(need further investigation on this)\n"
      ]
    },
    {
      "cell_type": "markdown",
      "metadata": {
        "id": "-HK3SiuNvdyo"
      },
      "source": [
        "## Linear model (lm3)"
      ]
    },
    {
      "cell_type": "code",
      "metadata": {
        "id": "uU4w2nEdurQb"
      },
      "source": [
        "x_Views_platform=x_Visitors.drop('Views_platform',axis=1)"
      ],
      "execution_count": 98,
      "outputs": []
    },
    {
      "cell_type": "code",
      "metadata": {
        "id": "rD5vNZzQvpXJ",
        "outputId": "eddc608f-a0cd-4230-bb8c-8b124b15352f",
        "colab": {
          "base_uri": "https://localhost:8080/",
          "height": 512
        }
      },
      "source": [
        "lm3=sm.OLS(y,sm.add_constant(x_Views_platform)).fit()\n",
        "lm3.summary()"
      ],
      "execution_count": 99,
      "outputs": [
        {
          "output_type": "execute_result",
          "data": {
            "text/html": [
              "<table class=\"simpletable\">\n",
              "<caption>OLS Regression Results</caption>\n",
              "<tr>\n",
              "  <th>Dep. Variable:</th>       <td>Views_show</td>    <th>  R-squared:         </th> <td>   0.803</td>\n",
              "</tr>\n",
              "<tr>\n",
              "  <th>Model:</th>                   <td>OLS</td>       <th>  Adj. R-squared:    </th> <td>   0.795</td>\n",
              "</tr>\n",
              "<tr>\n",
              "  <th>Method:</th>             <td>Least Squares</td>  <th>  F-statistic:       </th> <td>   103.0</td>\n",
              "</tr>\n",
              "<tr>\n",
              "  <th>Date:</th>             <td>Sat, 14 Nov 2020</td> <th>  Prob (F-statistic):</th> <td>1.05e-26</td>\n",
              "</tr>\n",
              "<tr>\n",
              "  <th>Time:</th>                 <td>07:05:50</td>     <th>  Log-Likelihood:    </th> <td> -1004.2</td>\n",
              "</tr>\n",
              "<tr>\n",
              "  <th>No. Observations:</th>      <td>    80</td>      <th>  AIC:               </th> <td>   2016.</td>\n",
              "</tr>\n",
              "<tr>\n",
              "  <th>Df Residuals:</th>          <td>    76</td>      <th>  BIC:               </th> <td>   2026.</td>\n",
              "</tr>\n",
              "<tr>\n",
              "  <th>Df Model:</th>              <td>     3</td>      <th>                     </th>     <td> </td>   \n",
              "</tr>\n",
              "<tr>\n",
              "  <th>Covariance Type:</th>      <td>nonrobust</td>    <th>                     </th>     <td> </td>   \n",
              "</tr>\n",
              "</table>\n",
              "<table class=\"simpletable\">\n",
              "<tr>\n",
              "            <td></td>               <th>coef</th>     <th>std err</th>      <th>t</th>      <th>P>|t|</th>  <th>[0.025</th>    <th>0.975]</th>  \n",
              "</tr>\n",
              "<tr>\n",
              "  <th>const</th>                 <td>-2.661e+05</td> <td> 4.74e+04</td> <td>   -5.609</td> <td> 0.000</td> <td>-3.61e+05</td> <td>-1.72e+05</td>\n",
              "</tr>\n",
              "<tr>\n",
              "  <th>Character_A</th>           <td> -2.99e+04</td> <td> 2.14e+04</td> <td>   -1.394</td> <td> 0.167</td> <td>-7.26e+04</td> <td> 1.28e+04</td>\n",
              "</tr>\n",
              "<tr>\n",
              "  <th>Weekdend</th>              <td>  1.51e+05</td> <td> 1.88e+04</td> <td>    8.019</td> <td> 0.000</td> <td> 1.14e+05</td> <td> 1.89e+05</td>\n",
              "</tr>\n",
              "<tr>\n",
              "  <th>Ad_impression_million</th> <td>  364.4670</td> <td>   36.909</td> <td>    9.875</td> <td> 0.000</td> <td>  290.957</td> <td>  437.977</td>\n",
              "</tr>\n",
              "</table>\n",
              "<table class=\"simpletable\">\n",
              "<tr>\n",
              "  <th>Omnibus:</th>       <td> 4.723</td> <th>  Durbin-Watson:     </th> <td>   1.169</td>\n",
              "</tr>\n",
              "<tr>\n",
              "  <th>Prob(Omnibus):</th> <td> 0.094</td> <th>  Jarque-Bera (JB):  </th> <td>   3.939</td>\n",
              "</tr>\n",
              "<tr>\n",
              "  <th>Skew:</th>          <td> 0.453</td> <th>  Prob(JB):          </th> <td>   0.139</td>\n",
              "</tr>\n",
              "<tr>\n",
              "  <th>Kurtosis:</th>      <td> 3.601</td> <th>  Cond. No.          </th> <td>9.26e+03</td>\n",
              "</tr>\n",
              "</table><br/><br/>Warnings:<br/>[1] Standard Errors assume that the covariance matrix of the errors is correctly specified.<br/>[2] The condition number is large, 9.26e+03. This might indicate that there are<br/>strong multicollinearity or other numerical problems."
            ],
            "text/plain": [
              "<class 'statsmodels.iolib.summary.Summary'>\n",
              "\"\"\"\n",
              "                            OLS Regression Results                            \n",
              "==============================================================================\n",
              "Dep. Variable:             Views_show   R-squared:                       0.803\n",
              "Model:                            OLS   Adj. R-squared:                  0.795\n",
              "Method:                 Least Squares   F-statistic:                     103.0\n",
              "Date:                Sat, 14 Nov 2020   Prob (F-statistic):           1.05e-26\n",
              "Time:                        07:05:50   Log-Likelihood:                -1004.2\n",
              "No. Observations:                  80   AIC:                             2016.\n",
              "Df Residuals:                      76   BIC:                             2026.\n",
              "Df Model:                           3                                         \n",
              "Covariance Type:            nonrobust                                         \n",
              "=========================================================================================\n",
              "                            coef    std err          t      P>|t|      [0.025      0.975]\n",
              "-----------------------------------------------------------------------------------------\n",
              "const                 -2.661e+05   4.74e+04     -5.609      0.000   -3.61e+05   -1.72e+05\n",
              "Character_A            -2.99e+04   2.14e+04     -1.394      0.167   -7.26e+04    1.28e+04\n",
              "Weekdend                1.51e+05   1.88e+04      8.019      0.000    1.14e+05    1.89e+05\n",
              "Ad_impression_million   364.4670     36.909      9.875      0.000     290.957     437.977\n",
              "==============================================================================\n",
              "Omnibus:                        4.723   Durbin-Watson:                   1.169\n",
              "Prob(Omnibus):                  0.094   Jarque-Bera (JB):                3.939\n",
              "Skew:                           0.453   Prob(JB):                        0.139\n",
              "Kurtosis:                       3.601   Cond. No.                     9.26e+03\n",
              "==============================================================================\n",
              "\n",
              "Warnings:\n",
              "[1] Standard Errors assume that the covariance matrix of the errors is correctly specified.\n",
              "[2] The condition number is large, 9.26e+03. This might indicate that there are\n",
              "strong multicollinearity or other numerical problems.\n",
              "\"\"\""
            ]
          },
          "metadata": {
            "tags": []
          },
          "execution_count": 99
        }
      ]
    },
    {
      "cell_type": "markdown",
      "metadata": {
        "id": "loPDeeV8ws6h"
      },
      "source": [
        "### observations of lm3 model:\n",
        "1) as, there is still some difference between $R^2$ and $Adjusted-R^2$ there is still a room to reduce features <br> 2) P-value for Character_A is more than 0.05 & still showing negative coefficient with Views_show so need to remove this feature\n"
      ]
    },
    {
      "cell_type": "markdown",
      "metadata": {
        "id": "aI0syayrxIzE"
      },
      "source": [
        "## Linear model lm4"
      ]
    },
    {
      "cell_type": "code",
      "metadata": {
        "id": "Zb6TpLQivyH1"
      },
      "source": [
        "x_Character_A=x_Views_platform.drop('Character_A',axis=1)"
      ],
      "execution_count": 100,
      "outputs": []
    },
    {
      "cell_type": "code",
      "metadata": {
        "id": "kOW6jdhpxU2M",
        "outputId": "0be25016-68ef-4e07-a77d-6f28621d8496",
        "colab": {
          "base_uri": "https://localhost:8080/",
          "height": 492
        }
      },
      "source": [
        "lm4=sm.OLS(y,sm.add_constant(x_Character_A)).fit()\n",
        "lm4.summary()"
      ],
      "execution_count": 101,
      "outputs": [
        {
          "output_type": "execute_result",
          "data": {
            "text/html": [
              "<table class=\"simpletable\">\n",
              "<caption>OLS Regression Results</caption>\n",
              "<tr>\n",
              "  <th>Dep. Variable:</th>       <td>Views_show</td>    <th>  R-squared:         </th> <td>   0.798</td>\n",
              "</tr>\n",
              "<tr>\n",
              "  <th>Model:</th>                   <td>OLS</td>       <th>  Adj. R-squared:    </th> <td>   0.792</td>\n",
              "</tr>\n",
              "<tr>\n",
              "  <th>Method:</th>             <td>Least Squares</td>  <th>  F-statistic:       </th> <td>   151.7</td>\n",
              "</tr>\n",
              "<tr>\n",
              "  <th>Date:</th>             <td>Sat, 14 Nov 2020</td> <th>  Prob (F-statistic):</th> <td>1.95e-27</td>\n",
              "</tr>\n",
              "<tr>\n",
              "  <th>Time:</th>                 <td>07:05:51</td>     <th>  Log-Likelihood:    </th> <td> -1005.2</td>\n",
              "</tr>\n",
              "<tr>\n",
              "  <th>No. Observations:</th>      <td>    80</td>      <th>  AIC:               </th> <td>   2016.</td>\n",
              "</tr>\n",
              "<tr>\n",
              "  <th>Df Residuals:</th>          <td>    77</td>      <th>  BIC:               </th> <td>   2023.</td>\n",
              "</tr>\n",
              "<tr>\n",
              "  <th>Df Model:</th>              <td>     2</td>      <th>                     </th>     <td> </td>   \n",
              "</tr>\n",
              "<tr>\n",
              "  <th>Covariance Type:</th>      <td>nonrobust</td>    <th>                     </th>     <td> </td>   \n",
              "</tr>\n",
              "</table>\n",
              "<table class=\"simpletable\">\n",
              "<tr>\n",
              "            <td></td>               <th>coef</th>     <th>std err</th>      <th>t</th>      <th>P>|t|</th>  <th>[0.025</th>    <th>0.975]</th>  \n",
              "</tr>\n",
              "<tr>\n",
              "  <th>const</th>                 <td>-2.302e+05</td> <td> 4.01e+04</td> <td>   -5.744</td> <td> 0.000</td> <td> -3.1e+05</td> <td> -1.5e+05</td>\n",
              "</tr>\n",
              "<tr>\n",
              "  <th>Weekdend</th>              <td> 1.551e+05</td> <td> 1.87e+04</td> <td>    8.282</td> <td> 0.000</td> <td> 1.18e+05</td> <td> 1.92e+05</td>\n",
              "</tr>\n",
              "<tr>\n",
              "  <th>Ad_impression_million</th> <td>  330.9993</td> <td>   28.203</td> <td>   11.736</td> <td> 0.000</td> <td>  274.840</td> <td>  387.159</td>\n",
              "</tr>\n",
              "</table>\n",
              "<table class=\"simpletable\">\n",
              "<tr>\n",
              "  <th>Omnibus:</th>       <td> 4.941</td> <th>  Durbin-Watson:     </th> <td>   1.282</td>\n",
              "</tr>\n",
              "<tr>\n",
              "  <th>Prob(Omnibus):</th> <td> 0.085</td> <th>  Jarque-Bera (JB):  </th> <td>   4.423</td>\n",
              "</tr>\n",
              "<tr>\n",
              "  <th>Skew:</th>          <td> 0.399</td> <th>  Prob(JB):          </th> <td>   0.110</td>\n",
              "</tr>\n",
              "<tr>\n",
              "  <th>Kurtosis:</th>      <td> 3.831</td> <th>  Cond. No.          </th> <td>7.52e+03</td>\n",
              "</tr>\n",
              "</table><br/><br/>Warnings:<br/>[1] Standard Errors assume that the covariance matrix of the errors is correctly specified.<br/>[2] The condition number is large, 7.52e+03. This might indicate that there are<br/>strong multicollinearity or other numerical problems."
            ],
            "text/plain": [
              "<class 'statsmodels.iolib.summary.Summary'>\n",
              "\"\"\"\n",
              "                            OLS Regression Results                            \n",
              "==============================================================================\n",
              "Dep. Variable:             Views_show   R-squared:                       0.798\n",
              "Model:                            OLS   Adj. R-squared:                  0.792\n",
              "Method:                 Least Squares   F-statistic:                     151.7\n",
              "Date:                Sat, 14 Nov 2020   Prob (F-statistic):           1.95e-27\n",
              "Time:                        07:05:51   Log-Likelihood:                -1005.2\n",
              "No. Observations:                  80   AIC:                             2016.\n",
              "Df Residuals:                      77   BIC:                             2023.\n",
              "Df Model:                           2                                         \n",
              "Covariance Type:            nonrobust                                         \n",
              "=========================================================================================\n",
              "                            coef    std err          t      P>|t|      [0.025      0.975]\n",
              "-----------------------------------------------------------------------------------------\n",
              "const                 -2.302e+05   4.01e+04     -5.744      0.000    -3.1e+05    -1.5e+05\n",
              "Weekdend               1.551e+05   1.87e+04      8.282      0.000    1.18e+05    1.92e+05\n",
              "Ad_impression_million   330.9993     28.203     11.736      0.000     274.840     387.159\n",
              "==============================================================================\n",
              "Omnibus:                        4.941   Durbin-Watson:                   1.282\n",
              "Prob(Omnibus):                  0.085   Jarque-Bera (JB):                4.423\n",
              "Skew:                           0.399   Prob(JB):                        0.110\n",
              "Kurtosis:                       3.831   Cond. No.                     7.52e+03\n",
              "==============================================================================\n",
              "\n",
              "Warnings:\n",
              "[1] Standard Errors assume that the covariance matrix of the errors is correctly specified.\n",
              "[2] The condition number is large, 7.52e+03. This might indicate that there are\n",
              "strong multicollinearity or other numerical problems.\n",
              "\"\"\""
            ]
          },
          "metadata": {
            "tags": []
          },
          "execution_count": 101
        }
      ]
    },
    {
      "cell_type": "markdown",
      "metadata": {
        "id": "XG5Z-EDSxhJT"
      },
      "source": [
        "### observations of model lm4:\n",
        "there is no big drop of $R^2$ after removing the `character_A`. <br>\n",
        "but still i'm not convinced to drop `character-A` feature"
      ]
    },
    {
      "cell_type": "markdown",
      "metadata": {
        "id": "UynCI2uWO-kC"
      },
      "source": [
        "### checking VIF for this lm4 model to check multicollineartiy"
      ]
    },
    {
      "cell_type": "code",
      "metadata": {
        "id": "xzrBRi7gPQcm",
        "outputId": "b0bbc004-f5ce-473c-d704-f567701893b3",
        "colab": {
          "base_uri": "https://localhost:8080/"
        }
      },
      "source": [
        "vif=pd.Series([variance_inflation_factor(x_Character_A.values,i) for i in range(x_Character_A.shape[1])],index=x_Character_A.columns)\n",
        "vif"
      ],
      "execution_count": 102,
      "outputs": [
        {
          "output_type": "execute_result",
          "data": {
            "text/plain": [
              "Weekdend                 1.481735\n",
              "Ad_impression_million    1.481735\n",
              "dtype: float64"
            ]
          },
          "metadata": {
            "tags": []
          },
          "execution_count": 102
        }
      ]
    },
    {
      "cell_type": "markdown",
      "metadata": {
        "id": "bCWWt45FPgI8"
      },
      "source": [
        "### observations from VIF:\n",
        "as both features are less than 5 from above VIF we can conclude that all features do not have any multicollinearity"
      ]
    },
    {
      "cell_type": "markdown",
      "metadata": {
        "id": "4mhv6zNu0yCN"
      },
      "source": [
        "# further investigation of character-A"
      ]
    },
    {
      "cell_type": "markdown",
      "metadata": {
        "id": "e0fBdy4c04QU"
      },
      "source": [
        "plan is to divide dataset in to 2 parts. first one up to max views and another after decline <br> then we can decide character-A is pulling the viewer or not to the show"
      ]
    },
    {
      "cell_type": "code",
      "metadata": {
        "id": "iMynnk5axbFY",
        "outputId": "9472abff-32c9-43fb-ccb1-e94fa581a3e5",
        "colab": {
          "base_uri": "https://localhost:8080/",
          "height": 78
        }
      },
      "source": [
        "df[df['Views_show']==df['Views_show'].max()]"
      ],
      "execution_count": 103,
      "outputs": [
        {
          "output_type": "execute_result",
          "data": {
            "text/html": [
              "<div>\n",
              "<style scoped>\n",
              "    .dataframe tbody tr th:only-of-type {\n",
              "        vertical-align: middle;\n",
              "    }\n",
              "\n",
              "    .dataframe tbody tr th {\n",
              "        vertical-align: top;\n",
              "    }\n",
              "\n",
              "    .dataframe thead th {\n",
              "        text-align: right;\n",
              "    }\n",
              "</style>\n",
              "<table border=\"1\" class=\"dataframe\">\n",
              "  <thead>\n",
              "    <tr style=\"text-align: right;\">\n",
              "      <th></th>\n",
              "      <th>Date</th>\n",
              "      <th>Views_show</th>\n",
              "      <th>Visitors</th>\n",
              "      <th>Views_platform</th>\n",
              "      <th>Cricket_match_india</th>\n",
              "      <th>Character_A</th>\n",
              "      <th>Day</th>\n",
              "      <th>Day_name</th>\n",
              "      <th>Weekdend</th>\n",
              "      <th>Ad_impression_million</th>\n",
              "    </tr>\n",
              "  </thead>\n",
              "  <tbody>\n",
              "    <tr>\n",
              "      <th>46</th>\n",
              "      <td>2017-04-16</td>\n",
              "      <td>758631</td>\n",
              "      <td>2026102</td>\n",
              "      <td>2933930</td>\n",
              "      <td>0</td>\n",
              "      <td>1</td>\n",
              "      <td>47</td>\n",
              "      <td>Sunday</td>\n",
              "      <td>1</td>\n",
              "      <td>1992.525162</td>\n",
              "    </tr>\n",
              "  </tbody>\n",
              "</table>\n",
              "</div>"
            ],
            "text/plain": [
              "         Date  Views_show  Visitors  ...  Day_name  Weekdend  Ad_impression_million\n",
              "46 2017-04-16      758631   2026102  ...    Sunday         1            1992.525162\n",
              "\n",
              "[1 rows x 10 columns]"
            ]
          },
          "metadata": {
            "tags": []
          },
          "execution_count": 103
        }
      ]
    },
    {
      "cell_type": "code",
      "metadata": {
        "id": "z7Lxtbt11dfH",
        "outputId": "36974d56-0d3e-4112-c6b8-ddba38adeee3",
        "colab": {
          "base_uri": "https://localhost:8080/",
          "height": 198
        }
      },
      "source": [
        "first_part=df[:47]\n",
        "first_part.head()"
      ],
      "execution_count": 104,
      "outputs": [
        {
          "output_type": "execute_result",
          "data": {
            "text/html": [
              "<div>\n",
              "<style scoped>\n",
              "    .dataframe tbody tr th:only-of-type {\n",
              "        vertical-align: middle;\n",
              "    }\n",
              "\n",
              "    .dataframe tbody tr th {\n",
              "        vertical-align: top;\n",
              "    }\n",
              "\n",
              "    .dataframe thead th {\n",
              "        text-align: right;\n",
              "    }\n",
              "</style>\n",
              "<table border=\"1\" class=\"dataframe\">\n",
              "  <thead>\n",
              "    <tr style=\"text-align: right;\">\n",
              "      <th></th>\n",
              "      <th>Date</th>\n",
              "      <th>Views_show</th>\n",
              "      <th>Visitors</th>\n",
              "      <th>Views_platform</th>\n",
              "      <th>Cricket_match_india</th>\n",
              "      <th>Character_A</th>\n",
              "      <th>Day</th>\n",
              "      <th>Day_name</th>\n",
              "      <th>Weekdend</th>\n",
              "      <th>Ad_impression_million</th>\n",
              "    </tr>\n",
              "  </thead>\n",
              "  <tbody>\n",
              "    <tr>\n",
              "      <th>0</th>\n",
              "      <td>2017-03-01</td>\n",
              "      <td>183738</td>\n",
              "      <td>1260228</td>\n",
              "      <td>1706478</td>\n",
              "      <td>0</td>\n",
              "      <td>0</td>\n",
              "      <td>1</td>\n",
              "      <td>Wednesday</td>\n",
              "      <td>0</td>\n",
              "      <td>1060.860448</td>\n",
              "    </tr>\n",
              "    <tr>\n",
              "      <th>1</th>\n",
              "      <td>2017-03-02</td>\n",
              "      <td>193763</td>\n",
              "      <td>1270561</td>\n",
              "      <td>1690727</td>\n",
              "      <td>0</td>\n",
              "      <td>0</td>\n",
              "      <td>2</td>\n",
              "      <td>Thursday</td>\n",
              "      <td>0</td>\n",
              "      <td>1031.846645</td>\n",
              "    </tr>\n",
              "    <tr>\n",
              "      <th>2</th>\n",
              "      <td>2017-03-03</td>\n",
              "      <td>210479</td>\n",
              "      <td>1248183</td>\n",
              "      <td>1726157</td>\n",
              "      <td>0</td>\n",
              "      <td>0</td>\n",
              "      <td>3</td>\n",
              "      <td>Friday</td>\n",
              "      <td>0</td>\n",
              "      <td>1010.867575</td>\n",
              "    </tr>\n",
              "    <tr>\n",
              "      <th>3</th>\n",
              "      <td>2017-03-04</td>\n",
              "      <td>240061</td>\n",
              "      <td>1492913</td>\n",
              "      <td>1855353</td>\n",
              "      <td>1</td>\n",
              "      <td>0</td>\n",
              "      <td>4</td>\n",
              "      <td>Saturday</td>\n",
              "      <td>1</td>\n",
              "      <td>1079.194579</td>\n",
              "    </tr>\n",
              "    <tr>\n",
              "      <th>4</th>\n",
              "      <td>2017-03-05</td>\n",
              "      <td>446314</td>\n",
              "      <td>1594712</td>\n",
              "      <td>2041418</td>\n",
              "      <td>0</td>\n",
              "      <td>0</td>\n",
              "      <td>5</td>\n",
              "      <td>Sunday</td>\n",
              "      <td>1</td>\n",
              "      <td>1357.736987</td>\n",
              "    </tr>\n",
              "  </tbody>\n",
              "</table>\n",
              "</div>"
            ],
            "text/plain": [
              "        Date  Views_show  Visitors  ...   Day_name  Weekdend  Ad_impression_million\n",
              "0 2017-03-01      183738   1260228  ...  Wednesday         0            1060.860448\n",
              "1 2017-03-02      193763   1270561  ...   Thursday         0            1031.846645\n",
              "2 2017-03-03      210479   1248183  ...     Friday         0            1010.867575\n",
              "3 2017-03-04      240061   1492913  ...   Saturday         1            1079.194579\n",
              "4 2017-03-05      446314   1594712  ...     Sunday         1            1357.736987\n",
              "\n",
              "[5 rows x 10 columns]"
            ]
          },
          "metadata": {
            "tags": []
          },
          "execution_count": 104
        }
      ]
    },
    {
      "cell_type": "markdown",
      "metadata": {
        "id": "bkdQgkGKMxN3"
      },
      "source": [
        "## plotting a heatmap for first_part with character-A"
      ]
    },
    {
      "cell_type": "code",
      "metadata": {
        "id": "59UTtA7K2S8q",
        "outputId": "fed68039-bbbf-4a8a-de8e-f7399e66eb1b",
        "colab": {
          "base_uri": "https://localhost:8080/",
          "height": 387
        }
      },
      "source": [
        "sns.heatmap(first_part.corr(),annot=True)"
      ],
      "execution_count": 105,
      "outputs": [
        {
          "output_type": "execute_result",
          "data": {
            "text/plain": [
              "<matplotlib.axes._subplots.AxesSubplot at 0x7f40dbe129b0>"
            ]
          },
          "metadata": {
            "tags": []
          },
          "execution_count": 105
        },
        {
          "output_type": "display_data",
          "data": {
            "image/png": "[encoded data removed]",
            "text/plain": [
              "<Figure size 432x288 with 2 Axes>"
            ]
          },
          "metadata": {
            "tags": [],
            "needs_background": "light"
          }
        }
      ]
    },
    {
      "cell_type": "markdown",
      "metadata": {
        "id": "fZml6KKsM52v"
      },
      "source": [
        "## building first linear model for first model with character-A"
      ]
    },
    {
      "cell_type": "code",
      "metadata": {
        "id": "suAc3A3Y4LU-"
      },
      "source": [
        "x_first_part=first_part.drop(['Views_show','Day_name','Date','Day'],axis=1)\n",
        "y_first_part=first_part['Views_show']"
      ],
      "execution_count": 106,
      "outputs": []
    },
    {
      "cell_type": "code",
      "metadata": {
        "id": "-bpCX_0K3vEW",
        "outputId": "e0906850-3238-414a-e1b4-ecbcec864ea1",
        "colab": {
          "base_uri": "https://localhost:8080/",
          "height": 574
        }
      },
      "source": [
        "sm.OLS(y_first_part,sm.add_constant(x_first_part)).fit().summary()"
      ],
      "execution_count": 107,
      "outputs": [
        {
          "output_type": "execute_result",
          "data": {
            "text/html": [
              "<table class=\"simpletable\">\n",
              "<caption>OLS Regression Results</caption>\n",
              "<tr>\n",
              "  <th>Dep. Variable:</th>       <td>Views_show</td>    <th>  R-squared:         </th> <td>   0.820</td>\n",
              "</tr>\n",
              "<tr>\n",
              "  <th>Model:</th>                   <td>OLS</td>       <th>  Adj. R-squared:    </th> <td>   0.793</td>\n",
              "</tr>\n",
              "<tr>\n",
              "  <th>Method:</th>             <td>Least Squares</td>  <th>  F-statistic:       </th> <td>   30.40</td>\n",
              "</tr>\n",
              "<tr>\n",
              "  <th>Date:</th>             <td>Sat, 14 Nov 2020</td> <th>  Prob (F-statistic):</th> <td>1.99e-13</td>\n",
              "</tr>\n",
              "<tr>\n",
              "  <th>Time:</th>                 <td>07:05:51</td>     <th>  Log-Likelihood:    </th> <td> -587.13</td>\n",
              "</tr>\n",
              "<tr>\n",
              "  <th>No. Observations:</th>      <td>    47</td>      <th>  AIC:               </th> <td>   1188.</td>\n",
              "</tr>\n",
              "<tr>\n",
              "  <th>Df Residuals:</th>          <td>    40</td>      <th>  BIC:               </th> <td>   1201.</td>\n",
              "</tr>\n",
              "<tr>\n",
              "  <th>Df Model:</th>              <td>     6</td>      <th>                     </th>     <td> </td>   \n",
              "</tr>\n",
              "<tr>\n",
              "  <th>Covariance Type:</th>      <td>nonrobust</td>    <th>                     </th>     <td> </td>   \n",
              "</tr>\n",
              "</table>\n",
              "<table class=\"simpletable\">\n",
              "<tr>\n",
              "            <td></td>               <th>coef</th>     <th>std err</th>      <th>t</th>      <th>P>|t|</th>  <th>[0.025</th>    <th>0.975]</th>  \n",
              "</tr>\n",
              "<tr>\n",
              "  <th>const</th>                 <td>-2.745e+05</td> <td> 2.04e+05</td> <td>   -1.348</td> <td> 0.185</td> <td>-6.86e+05</td> <td> 1.37e+05</td>\n",
              "</tr>\n",
              "<tr>\n",
              "  <th>Visitors</th>              <td>   -0.4427</td> <td>    0.316</td> <td>   -1.402</td> <td> 0.169</td> <td>   -1.081</td> <td>    0.196</td>\n",
              "</tr>\n",
              "<tr>\n",
              "  <th>Views_platform</th>        <td>    0.3725</td> <td>    0.146</td> <td>    2.555</td> <td> 0.015</td> <td>    0.078</td> <td>    0.667</td>\n",
              "</tr>\n",
              "<tr>\n",
              "  <th>Cricket_match_india</th>   <td>-1.332e+04</td> <td> 7.65e+04</td> <td>   -0.174</td> <td> 0.863</td> <td>-1.68e+05</td> <td> 1.41e+05</td>\n",
              "</tr>\n",
              "<tr>\n",
              "  <th>Character_A</th>           <td>-8.523e+04</td> <td> 3.81e+04</td> <td>   -2.238</td> <td> 0.031</td> <td>-1.62e+05</td> <td>-8274.743</td>\n",
              "</tr>\n",
              "<tr>\n",
              "  <th>Weekdend</th>              <td> 1.366e+05</td> <td> 4.05e+04</td> <td>    3.375</td> <td> 0.002</td> <td> 5.48e+04</td> <td> 2.18e+05</td>\n",
              "</tr>\n",
              "<tr>\n",
              "  <th>Ad_impression_million</th> <td>  334.5661</td> <td>   69.326</td> <td>    4.826</td> <td> 0.000</td> <td>  194.452</td> <td>  474.680</td>\n",
              "</tr>\n",
              "</table>\n",
              "<table class=\"simpletable\">\n",
              "<tr>\n",
              "  <th>Omnibus:</th>       <td> 0.729</td> <th>  Durbin-Watson:     </th> <td>   1.095</td>\n",
              "</tr>\n",
              "<tr>\n",
              "  <th>Prob(Omnibus):</th> <td> 0.694</td> <th>  Jarque-Bera (JB):  </th> <td>   0.748</td>\n",
              "</tr>\n",
              "<tr>\n",
              "  <th>Skew:</th>          <td> 0.274</td> <th>  Prob(JB):          </th> <td>   0.688</td>\n",
              "</tr>\n",
              "<tr>\n",
              "  <th>Kurtosis:</th>      <td> 2.716</td> <th>  Cond. No.          </th> <td>5.40e+07</td>\n",
              "</tr>\n",
              "</table><br/><br/>Warnings:<br/>[1] Standard Errors assume that the covariance matrix of the errors is correctly specified.<br/>[2] The condition number is large, 5.4e+07. This might indicate that there are<br/>strong multicollinearity or other numerical problems."
            ],
            "text/plain": [
              "<class 'statsmodels.iolib.summary.Summary'>\n",
              "\"\"\"\n",
              "                            OLS Regression Results                            \n",
              "==============================================================================\n",
              "Dep. Variable:             Views_show   R-squared:                       0.820\n",
              "Model:                            OLS   Adj. R-squared:                  0.793\n",
              "Method:                 Least Squares   F-statistic:                     30.40\n",
              "Date:                Sat, 14 Nov 2020   Prob (F-statistic):           1.99e-13\n",
              "Time:                        07:05:51   Log-Likelihood:                -587.13\n",
              "No. Observations:                  47   AIC:                             1188.\n",
              "Df Residuals:                      40   BIC:                             1201.\n",
              "Df Model:                           6                                         \n",
              "Covariance Type:            nonrobust                                         \n",
              "=========================================================================================\n",
              "                            coef    std err          t      P>|t|      [0.025      0.975]\n",
              "-----------------------------------------------------------------------------------------\n",
              "const                 -2.745e+05   2.04e+05     -1.348      0.185   -6.86e+05    1.37e+05\n",
              "Visitors                 -0.4427      0.316     -1.402      0.169      -1.081       0.196\n",
              "Views_platform            0.3725      0.146      2.555      0.015       0.078       0.667\n",
              "Cricket_match_india   -1.332e+04   7.65e+04     -0.174      0.863   -1.68e+05    1.41e+05\n",
              "Character_A           -8.523e+04   3.81e+04     -2.238      0.031   -1.62e+05   -8274.743\n",
              "Weekdend               1.366e+05   4.05e+04      3.375      0.002    5.48e+04    2.18e+05\n",
              "Ad_impression_million   334.5661     69.326      4.826      0.000     194.452     474.680\n",
              "==============================================================================\n",
              "Omnibus:                        0.729   Durbin-Watson:                   1.095\n",
              "Prob(Omnibus):                  0.694   Jarque-Bera (JB):                0.748\n",
              "Skew:                           0.274   Prob(JB):                        0.688\n",
              "Kurtosis:                       2.716   Cond. No.                     5.40e+07\n",
              "==============================================================================\n",
              "\n",
              "Warnings:\n",
              "[1] Standard Errors assume that the covariance matrix of the errors is correctly specified.\n",
              "[2] The condition number is large, 5.4e+07. This might indicate that there are\n",
              "strong multicollinearity or other numerical problems.\n",
              "\"\"\""
            ]
          },
          "metadata": {
            "tags": []
          },
          "execution_count": 107
        }
      ]
    },
    {
      "cell_type": "markdown",
      "metadata": {
        "id": "Ib8oqjz5MYVP"
      },
      "source": [
        "### observations of first part with character-A:\n",
        "1) dropping Cricket_match_india as it is not statistically not significant"
      ]
    },
    {
      "cell_type": "code",
      "metadata": {
        "id": "NNUs2kPi4tzA"
      },
      "source": [
        "x_first_part_Cricket_match=x_first_part.drop('Cricket_match_india',axis=1)"
      ],
      "execution_count": 108,
      "outputs": []
    },
    {
      "cell_type": "markdown",
      "metadata": {
        "id": "T9UfvrgoNlOh"
      },
      "source": [
        "## building linear model by dropping cricket match for first model"
      ]
    },
    {
      "cell_type": "code",
      "metadata": {
        "id": "4HgovPrnNjv1",
        "outputId": "4126e4db-eebf-4e40-8893-840be898140e",
        "colab": {
          "base_uri": "https://localhost:8080/",
          "height": 553
        }
      },
      "source": [
        "first_part_lm2=sm.OLS(y_first_part,sm.add_constant(x_first_part_Cricket_match)).fit()\n",
        "first_part_lm2.summary()"
      ],
      "execution_count": 109,
      "outputs": [
        {
          "output_type": "execute_result",
          "data": {
            "text/html": [
              "<table class=\"simpletable\">\n",
              "<caption>OLS Regression Results</caption>\n",
              "<tr>\n",
              "  <th>Dep. Variable:</th>       <td>Views_show</td>    <th>  R-squared:         </th> <td>   0.820</td>\n",
              "</tr>\n",
              "<tr>\n",
              "  <th>Model:</th>                   <td>OLS</td>       <th>  Adj. R-squared:    </th> <td>   0.798</td>\n",
              "</tr>\n",
              "<tr>\n",
              "  <th>Method:</th>             <td>Least Squares</td>  <th>  F-statistic:       </th> <td>   37.36</td>\n",
              "</tr>\n",
              "<tr>\n",
              "  <th>Date:</th>             <td>Sat, 14 Nov 2020</td> <th>  Prob (F-statistic):</th> <td>3.11e-14</td>\n",
              "</tr>\n",
              "<tr>\n",
              "  <th>Time:</th>                 <td>07:05:51</td>     <th>  Log-Likelihood:    </th> <td> -587.15</td>\n",
              "</tr>\n",
              "<tr>\n",
              "  <th>No. Observations:</th>      <td>    47</td>      <th>  AIC:               </th> <td>   1186.</td>\n",
              "</tr>\n",
              "<tr>\n",
              "  <th>Df Residuals:</th>          <td>    41</td>      <th>  BIC:               </th> <td>   1197.</td>\n",
              "</tr>\n",
              "<tr>\n",
              "  <th>Df Model:</th>              <td>     5</td>      <th>                     </th>     <td> </td>   \n",
              "</tr>\n",
              "<tr>\n",
              "  <th>Covariance Type:</th>      <td>nonrobust</td>    <th>                     </th>     <td> </td>   \n",
              "</tr>\n",
              "</table>\n",
              "<table class=\"simpletable\">\n",
              "<tr>\n",
              "            <td></td>               <th>coef</th>     <th>std err</th>      <th>t</th>      <th>P>|t|</th>  <th>[0.025</th>    <th>0.975]</th>  \n",
              "</tr>\n",
              "<tr>\n",
              "  <th>const</th>                 <td>-2.771e+05</td> <td> 2.01e+05</td> <td>   -1.381</td> <td> 0.175</td> <td>-6.82e+05</td> <td> 1.28e+05</td>\n",
              "</tr>\n",
              "<tr>\n",
              "  <th>Visitors</th>              <td>   -0.4482</td> <td>    0.311</td> <td>   -1.443</td> <td> 0.157</td> <td>   -1.075</td> <td>    0.179</td>\n",
              "</tr>\n",
              "<tr>\n",
              "  <th>Views_platform</th>        <td>    0.3766</td> <td>    0.142</td> <td>    2.648</td> <td> 0.011</td> <td>    0.089</td> <td>    0.664</td>\n",
              "</tr>\n",
              "<tr>\n",
              "  <th>Character_A</th>           <td> -8.59e+04</td> <td> 3.74e+04</td> <td>   -2.295</td> <td> 0.027</td> <td>-1.62e+05</td> <td>-1.03e+04</td>\n",
              "</tr>\n",
              "<tr>\n",
              "  <th>Weekdend</th>              <td> 1.354e+05</td> <td> 3.94e+04</td> <td>    3.436</td> <td> 0.001</td> <td> 5.58e+04</td> <td> 2.15e+05</td>\n",
              "</tr>\n",
              "<tr>\n",
              "  <th>Ad_impression_million</th> <td>  336.5734</td> <td>   67.548</td> <td>    4.983</td> <td> 0.000</td> <td>  200.156</td> <td>  472.990</td>\n",
              "</tr>\n",
              "</table>\n",
              "<table class=\"simpletable\">\n",
              "<tr>\n",
              "  <th>Omnibus:</th>       <td> 0.816</td> <th>  Durbin-Watson:     </th> <td>   1.102</td>\n",
              "</tr>\n",
              "<tr>\n",
              "  <th>Prob(Omnibus):</th> <td> 0.665</td> <th>  Jarque-Bera (JB):  </th> <td>   0.823</td>\n",
              "</tr>\n",
              "<tr>\n",
              "  <th>Skew:</th>          <td> 0.290</td> <th>  Prob(JB):          </th> <td>   0.663</td>\n",
              "</tr>\n",
              "<tr>\n",
              "  <th>Kurtosis:</th>      <td> 2.712</td> <th>  Cond. No.          </th> <td>5.39e+07</td>\n",
              "</tr>\n",
              "</table><br/><br/>Warnings:<br/>[1] Standard Errors assume that the covariance matrix of the errors is correctly specified.<br/>[2] The condition number is large, 5.39e+07. This might indicate that there are<br/>strong multicollinearity or other numerical problems."
            ],
            "text/plain": [
              "<class 'statsmodels.iolib.summary.Summary'>\n",
              "\"\"\"\n",
              "                            OLS Regression Results                            \n",
              "==============================================================================\n",
              "Dep. Variable:             Views_show   R-squared:                       0.820\n",
              "Model:                            OLS   Adj. R-squared:                  0.798\n",
              "Method:                 Least Squares   F-statistic:                     37.36\n",
              "Date:                Sat, 14 Nov 2020   Prob (F-statistic):           3.11e-14\n",
              "Time:                        07:05:51   Log-Likelihood:                -587.15\n",
              "No. Observations:                  47   AIC:                             1186.\n",
              "Df Residuals:                      41   BIC:                             1197.\n",
              "Df Model:                           5                                         \n",
              "Covariance Type:            nonrobust                                         \n",
              "=========================================================================================\n",
              "                            coef    std err          t      P>|t|      [0.025      0.975]\n",
              "-----------------------------------------------------------------------------------------\n",
              "const                 -2.771e+05   2.01e+05     -1.381      0.175   -6.82e+05    1.28e+05\n",
              "Visitors                 -0.4482      0.311     -1.443      0.157      -1.075       0.179\n",
              "Views_platform            0.3766      0.142      2.648      0.011       0.089       0.664\n",
              "Character_A            -8.59e+04   3.74e+04     -2.295      0.027   -1.62e+05   -1.03e+04\n",
              "Weekdend               1.354e+05   3.94e+04      3.436      0.001    5.58e+04    2.15e+05\n",
              "Ad_impression_million   336.5734     67.548      4.983      0.000     200.156     472.990\n",
              "==============================================================================\n",
              "Omnibus:                        0.816   Durbin-Watson:                   1.102\n",
              "Prob(Omnibus):                  0.665   Jarque-Bera (JB):                0.823\n",
              "Skew:                           0.290   Prob(JB):                        0.663\n",
              "Kurtosis:                       2.712   Cond. No.                     5.39e+07\n",
              "==============================================================================\n",
              "\n",
              "Warnings:\n",
              "[1] Standard Errors assume that the covariance matrix of the errors is correctly specified.\n",
              "[2] The condition number is large, 5.39e+07. This might indicate that there are\n",
              "strong multicollinearity or other numerical problems.\n",
              "\"\"\""
            ]
          },
          "metadata": {
            "tags": []
          },
          "execution_count": 109
        }
      ]
    },
    {
      "cell_type": "markdown",
      "metadata": {
        "id": "8X6ramgTOCPX"
      },
      "source": [
        "### observations from first_part_lm2 model\n",
        "1) as, there is still some difference between $R^2$ and $Adjusted-R^2$ there is still a room to reduce features <br> 2) P-value for Visitors is more than 0.05 & still showing negative coefficient with Views_show so need to remove this feature"
      ]
    },
    {
      "cell_type": "markdown",
      "metadata": {
        "id": "_V6mywu3OgBQ"
      },
      "source": [
        "## building model by dropping Visitors"
      ]
    },
    {
      "cell_type": "code",
      "metadata": {
        "id": "Pk3shDCu3Z6c"
      },
      "source": [
        "x_first_part_Visitors=x_first_part_Cricket_match.drop('Visitors',axis=1)"
      ],
      "execution_count": 110,
      "outputs": []
    },
    {
      "cell_type": "code",
      "metadata": {
        "id": "RDOQAa5DOe1-",
        "outputId": "b293276d-5cad-4d9e-fbfe-5b71f8b148eb",
        "colab": {
          "base_uri": "https://localhost:8080/",
          "height": 533
        }
      },
      "source": [
        "first_part_lm3=sm.OLS(y_first_part,sm.add_constant(x_first_part_Visitors)).fit()\n",
        "first_part_lm3.summary()"
      ],
      "execution_count": 111,
      "outputs": [
        {
          "output_type": "execute_result",
          "data": {
            "text/html": [
              "<table class=\"simpletable\">\n",
              "<caption>OLS Regression Results</caption>\n",
              "<tr>\n",
              "  <th>Dep. Variable:</th>       <td>Views_show</td>    <th>  R-squared:         </th> <td>   0.811</td>\n",
              "</tr>\n",
              "<tr>\n",
              "  <th>Model:</th>                   <td>OLS</td>       <th>  Adj. R-squared:    </th> <td>   0.793</td>\n",
              "</tr>\n",
              "<tr>\n",
              "  <th>Method:</th>             <td>Least Squares</td>  <th>  F-statistic:       </th> <td>   45.02</td>\n",
              "</tr>\n",
              "<tr>\n",
              "  <th>Date:</th>             <td>Sat, 14 Nov 2020</td> <th>  Prob (F-statistic):</th> <td>1.17e-14</td>\n",
              "</tr>\n",
              "<tr>\n",
              "  <th>Time:</th>                 <td>07:05:51</td>     <th>  Log-Likelihood:    </th> <td> -588.32</td>\n",
              "</tr>\n",
              "<tr>\n",
              "  <th>No. Observations:</th>      <td>    47</td>      <th>  AIC:               </th> <td>   1187.</td>\n",
              "</tr>\n",
              "<tr>\n",
              "  <th>Df Residuals:</th>          <td>    42</td>      <th>  BIC:               </th> <td>   1196.</td>\n",
              "</tr>\n",
              "<tr>\n",
              "  <th>Df Model:</th>              <td>     4</td>      <th>                     </th>     <td> </td>   \n",
              "</tr>\n",
              "<tr>\n",
              "  <th>Covariance Type:</th>      <td>nonrobust</td>    <th>                     </th>     <td> </td>   \n",
              "</tr>\n",
              "</table>\n",
              "<table class=\"simpletable\">\n",
              "<tr>\n",
              "            <td></td>               <th>coef</th>     <th>std err</th>      <th>t</th>      <th>P>|t|</th>  <th>[0.025</th>    <th>0.975]</th>  \n",
              "</tr>\n",
              "<tr>\n",
              "  <th>const</th>                 <td>-5.024e+05</td> <td> 1.28e+05</td> <td>   -3.934</td> <td> 0.000</td> <td> -7.6e+05</td> <td>-2.45e+05</td>\n",
              "</tr>\n",
              "<tr>\n",
              "  <th>Views_platform</th>        <td>    0.2026</td> <td>    0.076</td> <td>    2.650</td> <td> 0.011</td> <td>    0.048</td> <td>    0.357</td>\n",
              "</tr>\n",
              "<tr>\n",
              "  <th>Character_A</th>           <td>-9.337e+04</td> <td> 3.76e+04</td> <td>   -2.486</td> <td> 0.017</td> <td>-1.69e+05</td> <td>-1.76e+04</td>\n",
              "</tr>\n",
              "<tr>\n",
              "  <th>Weekdend</th>              <td> 9.442e+04</td> <td> 2.77e+04</td> <td>    3.413</td> <td> 0.001</td> <td> 3.86e+04</td> <td>  1.5e+05</td>\n",
              "</tr>\n",
              "<tr>\n",
              "  <th>Ad_impression_million</th> <td>  270.8625</td> <td>   50.539</td> <td>    5.359</td> <td> 0.000</td> <td>  168.870</td> <td>  372.855</td>\n",
              "</tr>\n",
              "</table>\n",
              "<table class=\"simpletable\">\n",
              "<tr>\n",
              "  <th>Omnibus:</th>       <td> 0.947</td> <th>  Durbin-Watson:     </th> <td>   1.000</td>\n",
              "</tr>\n",
              "<tr>\n",
              "  <th>Prob(Omnibus):</th> <td> 0.623</td> <th>  Jarque-Bera (JB):  </th> <td>   0.906</td>\n",
              "</tr>\n",
              "<tr>\n",
              "  <th>Skew:</th>          <td> 0.315</td> <th>  Prob(JB):          </th> <td>   0.636</td>\n",
              "</tr>\n",
              "<tr>\n",
              "  <th>Kurtosis:</th>      <td> 2.744</td> <th>  Cond. No.          </th> <td>2.75e+07</td>\n",
              "</tr>\n",
              "</table><br/><br/>Warnings:<br/>[1] Standard Errors assume that the covariance matrix of the errors is correctly specified.<br/>[2] The condition number is large, 2.75e+07. This might indicate that there are<br/>strong multicollinearity or other numerical problems."
            ],
            "text/plain": [
              "<class 'statsmodels.iolib.summary.Summary'>\n",
              "\"\"\"\n",
              "                            OLS Regression Results                            \n",
              "==============================================================================\n",
              "Dep. Variable:             Views_show   R-squared:                       0.811\n",
              "Model:                            OLS   Adj. R-squared:                  0.793\n",
              "Method:                 Least Squares   F-statistic:                     45.02\n",
              "Date:                Sat, 14 Nov 2020   Prob (F-statistic):           1.17e-14\n",
              "Time:                        07:05:51   Log-Likelihood:                -588.32\n",
              "No. Observations:                  47   AIC:                             1187.\n",
              "Df Residuals:                      42   BIC:                             1196.\n",
              "Df Model:                           4                                         \n",
              "Covariance Type:            nonrobust                                         \n",
              "=========================================================================================\n",
              "                            coef    std err          t      P>|t|      [0.025      0.975]\n",
              "-----------------------------------------------------------------------------------------\n",
              "const                 -5.024e+05   1.28e+05     -3.934      0.000    -7.6e+05   -2.45e+05\n",
              "Views_platform            0.2026      0.076      2.650      0.011       0.048       0.357\n",
              "Character_A           -9.337e+04   3.76e+04     -2.486      0.017   -1.69e+05   -1.76e+04\n",
              "Weekdend               9.442e+04   2.77e+04      3.413      0.001    3.86e+04     1.5e+05\n",
              "Ad_impression_million   270.8625     50.539      5.359      0.000     168.870     372.855\n",
              "==============================================================================\n",
              "Omnibus:                        0.947   Durbin-Watson:                   1.000\n",
              "Prob(Omnibus):                  0.623   Jarque-Bera (JB):                0.906\n",
              "Skew:                           0.315   Prob(JB):                        0.636\n",
              "Kurtosis:                       2.744   Cond. No.                     2.75e+07\n",
              "==============================================================================\n",
              "\n",
              "Warnings:\n",
              "[1] Standard Errors assume that the covariance matrix of the errors is correctly specified.\n",
              "[2] The condition number is large, 2.75e+07. This might indicate that there are\n",
              "strong multicollinearity or other numerical problems.\n",
              "\"\"\""
            ]
          },
          "metadata": {
            "tags": []
          },
          "execution_count": 111
        }
      ]
    },
    {
      "cell_type": "markdown",
      "metadata": {
        "id": "1zfh7Vu4P7-W"
      },
      "source": [
        "### checking for multicollinearity by using VIF for first_part_lm3"
      ]
    },
    {
      "cell_type": "code",
      "metadata": {
        "id": "udJ0LhZdOtpI",
        "outputId": "3f4f1fb5-cff2-4259-a47b-0b287918fbb1",
        "colab": {
          "base_uri": "https://localhost:8080/"
        }
      },
      "source": [
        "vif_first_part_lm3=pd.Series([variance_inflation_factor(x_first_part_Visitors.values,i)for i in range(x_first_part_Visitors.shape[1])],\n",
        "                             index=x_first_part_Visitors.columns)\n",
        "vif_first_part_lm3"
      ],
      "execution_count": 112,
      "outputs": [
        {
          "output_type": "execute_result",
          "data": {
            "text/plain": [
              "Views_platform           50.973480\n",
              "Character_A               2.944796\n",
              "Weekdend                  1.545847\n",
              "Ad_impression_million    57.736095\n",
              "dtype: float64"
            ]
          },
          "metadata": {
            "tags": []
          },
          "execution_count": 112
        }
      ]
    },
    {
      "cell_type": "markdown",
      "metadata": {
        "id": "q3kJ0JzsVUDf"
      },
      "source": [
        "### dropping Ad_impression_million from the above model and rerun the model"
      ]
    },
    {
      "cell_type": "code",
      "metadata": {
        "id": "6tBb1p-8RMw8",
        "outputId": "59f8cb43-0892-4636-b5a3-a793ab250434",
        "colab": {
          "base_uri": "https://localhost:8080/",
          "height": 512
        }
      },
      "source": [
        "x_first_part_Ad_impression_million=x_first_part_Visitors.drop('Ad_impression_million',axis=1)\n",
        "first_part_lm4=sm.OLS(y_first_part,sm.add_constant(x_first_part_Ad_impression_million)).fit()\n",
        "first_part_lm4.summary()"
      ],
      "execution_count": 113,
      "outputs": [
        {
          "output_type": "execute_result",
          "data": {
            "text/html": [
              "<table class=\"simpletable\">\n",
              "<caption>OLS Regression Results</caption>\n",
              "<tr>\n",
              "  <th>Dep. Variable:</th>       <td>Views_show</td>    <th>  R-squared:         </th> <td>   0.682</td>\n",
              "</tr>\n",
              "<tr>\n",
              "  <th>Model:</th>                   <td>OLS</td>       <th>  Adj. R-squared:    </th> <td>   0.659</td>\n",
              "</tr>\n",
              "<tr>\n",
              "  <th>Method:</th>             <td>Least Squares</td>  <th>  F-statistic:       </th> <td>   30.67</td>\n",
              "</tr>\n",
              "<tr>\n",
              "  <th>Date:</th>             <td>Sat, 14 Nov 2020</td> <th>  Prob (F-statistic):</th> <td>9.20e-11</td>\n",
              "</tr>\n",
              "<tr>\n",
              "  <th>Time:</th>                 <td>07:05:51</td>     <th>  Log-Likelihood:    </th> <td> -600.56</td>\n",
              "</tr>\n",
              "<tr>\n",
              "  <th>No. Observations:</th>      <td>    47</td>      <th>  AIC:               </th> <td>   1209.</td>\n",
              "</tr>\n",
              "<tr>\n",
              "  <th>Df Residuals:</th>          <td>    43</td>      <th>  BIC:               </th> <td>   1217.</td>\n",
              "</tr>\n",
              "<tr>\n",
              "  <th>Df Model:</th>              <td>     3</td>      <th>                     </th>     <td> </td>   \n",
              "</tr>\n",
              "<tr>\n",
              "  <th>Covariance Type:</th>      <td>nonrobust</td>    <th>                     </th>     <td> </td>   \n",
              "</tr>\n",
              "</table>\n",
              "<table class=\"simpletable\">\n",
              "<tr>\n",
              "         <td></td>           <th>coef</th>     <th>std err</th>      <th>t</th>      <th>P>|t|</th>  <th>[0.025</th>    <th>0.975]</th>  \n",
              "</tr>\n",
              "<tr>\n",
              "  <th>const</th>          <td>-4.941e+05</td> <td> 1.64e+05</td> <td>   -3.017</td> <td> 0.004</td> <td>-8.24e+05</td> <td>-1.64e+05</td>\n",
              "</tr>\n",
              "<tr>\n",
              "  <th>Views_platform</th> <td>    0.3759</td> <td>    0.089</td> <td>    4.231</td> <td> 0.000</td> <td>    0.197</td> <td>    0.555</td>\n",
              "</tr>\n",
              "<tr>\n",
              "  <th>Character_A</th>    <td>-3.629e+04</td> <td> 4.62e+04</td> <td>   -0.786</td> <td> 0.436</td> <td>-1.29e+05</td> <td> 5.68e+04</td>\n",
              "</tr>\n",
              "<tr>\n",
              "  <th>Weekdend</th>       <td> 1.037e+05</td> <td> 3.54e+04</td> <td>    2.930</td> <td> 0.005</td> <td> 3.23e+04</td> <td> 1.75e+05</td>\n",
              "</tr>\n",
              "</table>\n",
              "<table class=\"simpletable\">\n",
              "<tr>\n",
              "  <th>Omnibus:</th>       <td> 2.110</td> <th>  Durbin-Watson:     </th> <td>   1.319</td>\n",
              "</tr>\n",
              "<tr>\n",
              "  <th>Prob(Omnibus):</th> <td> 0.348</td> <th>  Jarque-Bera (JB):  </th> <td>   1.485</td>\n",
              "</tr>\n",
              "<tr>\n",
              "  <th>Skew:</th>          <td> 0.210</td> <th>  Prob(JB):          </th> <td>   0.476</td>\n",
              "</tr>\n",
              "<tr>\n",
              "  <th>Kurtosis:</th>      <td> 2.237</td> <th>  Cond. No.          </th> <td>2.75e+07</td>\n",
              "</tr>\n",
              "</table><br/><br/>Warnings:<br/>[1] Standard Errors assume that the covariance matrix of the errors is correctly specified.<br/>[2] The condition number is large, 2.75e+07. This might indicate that there are<br/>strong multicollinearity or other numerical problems."
            ],
            "text/plain": [
              "<class 'statsmodels.iolib.summary.Summary'>\n",
              "\"\"\"\n",
              "                            OLS Regression Results                            \n",
              "==============================================================================\n",
              "Dep. Variable:             Views_show   R-squared:                       0.682\n",
              "Model:                            OLS   Adj. R-squared:                  0.659\n",
              "Method:                 Least Squares   F-statistic:                     30.67\n",
              "Date:                Sat, 14 Nov 2020   Prob (F-statistic):           9.20e-11\n",
              "Time:                        07:05:51   Log-Likelihood:                -600.56\n",
              "No. Observations:                  47   AIC:                             1209.\n",
              "Df Residuals:                      43   BIC:                             1217.\n",
              "Df Model:                           3                                         \n",
              "Covariance Type:            nonrobust                                         \n",
              "==================================================================================\n",
              "                     coef    std err          t      P>|t|      [0.025      0.975]\n",
              "----------------------------------------------------------------------------------\n",
              "const          -4.941e+05   1.64e+05     -3.017      0.004   -8.24e+05   -1.64e+05\n",
              "Views_platform     0.3759      0.089      4.231      0.000       0.197       0.555\n",
              "Character_A    -3.629e+04   4.62e+04     -0.786      0.436   -1.29e+05    5.68e+04\n",
              "Weekdend        1.037e+05   3.54e+04      2.930      0.005    3.23e+04    1.75e+05\n",
              "==============================================================================\n",
              "Omnibus:                        2.110   Durbin-Watson:                   1.319\n",
              "Prob(Omnibus):                  0.348   Jarque-Bera (JB):                1.485\n",
              "Skew:                           0.210   Prob(JB):                        0.476\n",
              "Kurtosis:                       2.237   Cond. No.                     2.75e+07\n",
              "==============================================================================\n",
              "\n",
              "Warnings:\n",
              "[1] Standard Errors assume that the covariance matrix of the errors is correctly specified.\n",
              "[2] The condition number is large, 2.75e+07. This might indicate that there are\n",
              "strong multicollinearity or other numerical problems.\n",
              "\"\"\""
            ]
          },
          "metadata": {
            "tags": []
          },
          "execution_count": 113
        }
      ]
    },
    {
      "cell_type": "markdown",
      "metadata": {
        "id": "1VqbVbxPV-po"
      },
      "source": [
        "### it is clear that Character_A is not significant to increase the visitors. so , we can consider our earlier lm4 was better model"
      ]
    },
    {
      "cell_type": "code",
      "metadata": {
        "id": "CS4KEYlIVnIE",
        "outputId": "3d572f56-435a-43e6-f54d-edb8f5938cee",
        "colab": {
          "base_uri": "https://localhost:8080/",
          "height": 492
        }
      },
      "source": [
        "lm4.summary()"
      ],
      "execution_count": 114,
      "outputs": [
        {
          "output_type": "execute_result",
          "data": {
            "text/html": [
              "<table class=\"simpletable\">\n",
              "<caption>OLS Regression Results</caption>\n",
              "<tr>\n",
              "  <th>Dep. Variable:</th>       <td>Views_show</td>    <th>  R-squared:         </th> <td>   0.798</td>\n",
              "</tr>\n",
              "<tr>\n",
              "  <th>Model:</th>                   <td>OLS</td>       <th>  Adj. R-squared:    </th> <td>   0.792</td>\n",
              "</tr>\n",
              "<tr>\n",
              "  <th>Method:</th>             <td>Least Squares</td>  <th>  F-statistic:       </th> <td>   151.7</td>\n",
              "</tr>\n",
              "<tr>\n",
              "  <th>Date:</th>             <td>Sat, 14 Nov 2020</td> <th>  Prob (F-statistic):</th> <td>1.95e-27</td>\n",
              "</tr>\n",
              "<tr>\n",
              "  <th>Time:</th>                 <td>07:05:51</td>     <th>  Log-Likelihood:    </th> <td> -1005.2</td>\n",
              "</tr>\n",
              "<tr>\n",
              "  <th>No. Observations:</th>      <td>    80</td>      <th>  AIC:               </th> <td>   2016.</td>\n",
              "</tr>\n",
              "<tr>\n",
              "  <th>Df Residuals:</th>          <td>    77</td>      <th>  BIC:               </th> <td>   2023.</td>\n",
              "</tr>\n",
              "<tr>\n",
              "  <th>Df Model:</th>              <td>     2</td>      <th>                     </th>     <td> </td>   \n",
              "</tr>\n",
              "<tr>\n",
              "  <th>Covariance Type:</th>      <td>nonrobust</td>    <th>                     </th>     <td> </td>   \n",
              "</tr>\n",
              "</table>\n",
              "<table class=\"simpletable\">\n",
              "<tr>\n",
              "            <td></td>               <th>coef</th>     <th>std err</th>      <th>t</th>      <th>P>|t|</th>  <th>[0.025</th>    <th>0.975]</th>  \n",
              "</tr>\n",
              "<tr>\n",
              "  <th>const</th>                 <td>-2.302e+05</td> <td> 4.01e+04</td> <td>   -5.744</td> <td> 0.000</td> <td> -3.1e+05</td> <td> -1.5e+05</td>\n",
              "</tr>\n",
              "<tr>\n",
              "  <th>Weekdend</th>              <td> 1.551e+05</td> <td> 1.87e+04</td> <td>    8.282</td> <td> 0.000</td> <td> 1.18e+05</td> <td> 1.92e+05</td>\n",
              "</tr>\n",
              "<tr>\n",
              "  <th>Ad_impression_million</th> <td>  330.9993</td> <td>   28.203</td> <td>   11.736</td> <td> 0.000</td> <td>  274.840</td> <td>  387.159</td>\n",
              "</tr>\n",
              "</table>\n",
              "<table class=\"simpletable\">\n",
              "<tr>\n",
              "  <th>Omnibus:</th>       <td> 4.941</td> <th>  Durbin-Watson:     </th> <td>   1.282</td>\n",
              "</tr>\n",
              "<tr>\n",
              "  <th>Prob(Omnibus):</th> <td> 0.085</td> <th>  Jarque-Bera (JB):  </th> <td>   4.423</td>\n",
              "</tr>\n",
              "<tr>\n",
              "  <th>Skew:</th>          <td> 0.399</td> <th>  Prob(JB):          </th> <td>   0.110</td>\n",
              "</tr>\n",
              "<tr>\n",
              "  <th>Kurtosis:</th>      <td> 3.831</td> <th>  Cond. No.          </th> <td>7.52e+03</td>\n",
              "</tr>\n",
              "</table><br/><br/>Warnings:<br/>[1] Standard Errors assume that the covariance matrix of the errors is correctly specified.<br/>[2] The condition number is large, 7.52e+03. This might indicate that there are<br/>strong multicollinearity or other numerical problems."
            ],
            "text/plain": [
              "<class 'statsmodels.iolib.summary.Summary'>\n",
              "\"\"\"\n",
              "                            OLS Regression Results                            \n",
              "==============================================================================\n",
              "Dep. Variable:             Views_show   R-squared:                       0.798\n",
              "Model:                            OLS   Adj. R-squared:                  0.792\n",
              "Method:                 Least Squares   F-statistic:                     151.7\n",
              "Date:                Sat, 14 Nov 2020   Prob (F-statistic):           1.95e-27\n",
              "Time:                        07:05:51   Log-Likelihood:                -1005.2\n",
              "No. Observations:                  80   AIC:                             2016.\n",
              "Df Residuals:                      77   BIC:                             2023.\n",
              "Df Model:                           2                                         \n",
              "Covariance Type:            nonrobust                                         \n",
              "=========================================================================================\n",
              "                            coef    std err          t      P>|t|      [0.025      0.975]\n",
              "-----------------------------------------------------------------------------------------\n",
              "const                 -2.302e+05   4.01e+04     -5.744      0.000    -3.1e+05    -1.5e+05\n",
              "Weekdend               1.551e+05   1.87e+04      8.282      0.000    1.18e+05    1.92e+05\n",
              "Ad_impression_million   330.9993     28.203     11.736      0.000     274.840     387.159\n",
              "==============================================================================\n",
              "Omnibus:                        4.941   Durbin-Watson:                   1.282\n",
              "Prob(Omnibus):                  0.085   Jarque-Bera (JB):                4.423\n",
              "Skew:                           0.399   Prob(JB):                        0.110\n",
              "Kurtosis:                       3.831   Cond. No.                     7.52e+03\n",
              "==============================================================================\n",
              "\n",
              "Warnings:\n",
              "[1] Standard Errors assume that the covariance matrix of the errors is correctly specified.\n",
              "[2] The condition number is large, 7.52e+03. This might indicate that there are\n",
              "strong multicollinearity or other numerical problems.\n",
              "\"\"\""
            ]
          },
          "metadata": {
            "tags": []
          },
          "execution_count": 114
        }
      ]
    },
    {
      "cell_type": "markdown",
      "metadata": {
        "id": "L3cLGEcrZXwE"
      },
      "source": [
        "# making predictions using lm4 model"
      ]
    },
    {
      "cell_type": "code",
      "metadata": {
        "id": "XCx04jCFZaeS"
      },
      "source": [
        "y_pred=lm4.predict(sm.add_constant(x_Character_A))"
      ],
      "execution_count": 115,
      "outputs": []
    },
    {
      "cell_type": "markdown",
      "metadata": {
        "id": "o_Wgb5UgZ4EY"
      },
      "source": [
        "# evaluating the model"
      ]
    },
    {
      "cell_type": "code",
      "metadata": {
        "id": "qVaLWXYVZ2Qn",
        "outputId": "e4968f21-9eed-45ae-ef07-f946444e4a4a",
        "colab": {
          "base_uri": "https://localhost:8080/"
        }
      },
      "source": [
        "r2_score(y,y_pred)"
      ],
      "execution_count": 116,
      "outputs": [
        {
          "output_type": "execute_result",
          "data": {
            "text/plain": [
              "0.7975978797926214"
            ]
          },
          "metadata": {
            "tags": []
          },
          "execution_count": 116
        }
      ]
    },
    {
      "cell_type": "code",
      "metadata": {
        "id": "Im9pSCwcaCY0",
        "outputId": "730c8bb2-2e6e-4568-a4bb-e2f34e0358d8",
        "colab": {
          "base_uri": "https://localhost:8080/"
        }
      },
      "source": [
        "mean_absolute_error(y,y_pred)"
      ],
      "execution_count": 117,
      "outputs": [
        {
          "output_type": "execute_result",
          "data": {
            "text/plain": [
              "53281.597012922444"
            ]
          },
          "metadata": {
            "tags": []
          },
          "execution_count": 117
        }
      ]
    },
    {
      "cell_type": "code",
      "metadata": {
        "id": "C4uETYILaFEl",
        "outputId": "abe1ac51-3844-4a9e-a434-66822bf08748",
        "colab": {
          "base_uri": "https://localhost:8080/"
        }
      },
      "source": [
        "mean_squared_error(y,y_pred)"
      ],
      "execution_count": 118,
      "outputs": [
        {
          "output_type": "execute_result",
          "data": {
            "text/plain": [
              "4797239258.824437"
            ]
          },
          "metadata": {
            "tags": []
          },
          "execution_count": 118
        }
      ]
    },
    {
      "cell_type": "code",
      "metadata": {
        "id": "qkhrW179aRyN",
        "outputId": "26431de1-7940-427f-90b6-a2f2a3d9c338",
        "colab": {
          "base_uri": "https://localhost:8080/",
          "height": 296
        }
      },
      "source": [
        "sns.lineplot(df['Day'],y,label='Actual')\n",
        "sns.lineplot(df['Day'],y_pred,label='Predicted')\n",
        "plt.legend()\n",
        "plt.xlabel('Index')\n",
        "plt.ylabel('Views')"
      ],
      "execution_count": 119,
      "outputs": [
        {
          "output_type": "execute_result",
          "data": {
            "text/plain": [
              "Text(0, 0.5, 'Views')"
            ]
          },
          "metadata": {
            "tags": []
          },
          "execution_count": 119
        },
        {
          "output_type": "display_data",
          "data": {
            "image/png": "[encoded data removed]",
            "text/plain": [
              "<Figure size 432x288 with 1 Axes>"
            ]
          },
          "metadata": {
            "tags": [],
            "needs_background": "light"
          }
        }
      ]
    },
    {
      "cell_type": "markdown",
      "metadata": {
        "id": "TC5dmUwncssr"
      },
      "source": [
        "## Error terms"
      ]
    },
    {
      "cell_type": "code",
      "metadata": {
        "id": "wP-LkAlqcvFO",
        "outputId": "957fcd77-fe56-4887-fcf8-ec960b83b54b",
        "colab": {
          "base_uri": "https://localhost:8080/",
          "height": 295
        }
      },
      "source": [
        "sns.lineplot(df['Day'],y-y_pred)\n",
        "plt.xlabel('Index')\n",
        "plt.ylabel('Views_show-Predicted_views')\n",
        "plt.title('Error Terms')\n",
        "plt.show()"
      ],
      "execution_count": 120,
      "outputs": [
        {
          "output_type": "display_data",
          "data": {
            "image/png": "[encoded data removed]",
            "text/plain": [
              "<Figure size 432x288 with 1 Axes>"
            ]
          },
          "metadata": {
            "tags": [],
            "needs_background": "light"
          }
        }
      ]
    },
    {
      "cell_type": "markdown",
      "metadata": {
        "id": "ZyaNnLyhWZvF"
      },
      "source": [
        "# interpretation:\n",
        "as per our analysis `Weekend` and `Ad_impressions` are key features. <br> as, we can not control the weekend we need to increase `Ad_impressions` to get more visitors to the show. <br>. the equation for best fit line is: <br>\n",
        "$ Views-show =  -2.302^5 + (1.551^5 \\times weekend) + (331 \\times Ad-impression-millin) $\n",
        "\n",
        "* for every unit increse in `weekend` the visitors_show will increase by $1.551^5$ (by holding all other varialbles constant)\n",
        "* for every unit increase in `Ad_impression_million` the visitors_show will increase by 331 (by holding all other varialbles constant)"
      ]
    },
    {
      "cell_type": "markdown",
      "metadata": {
        "id": "N7SG0xKloE_R"
      },
      "source": [
        "# answer to marketing team\n"
      ]
    },
    {
      "cell_type": "code",
      "metadata": {
        "id": "bFs6DAyPgJ3u",
        "outputId": "8ed25715-022c-44df-db8e-06ed697b1482",
        "colab": {
          "base_uri": "https://localhost:8080/",
          "height": 198
        }
      },
      "source": [
        "df.head()"
      ],
      "execution_count": 121,
      "outputs": [
        {
          "output_type": "execute_result",
          "data": {
            "text/html": [
              "<div>\n",
              "<style scoped>\n",
              "    .dataframe tbody tr th:only-of-type {\n",
              "        vertical-align: middle;\n",
              "    }\n",
              "\n",
              "    .dataframe tbody tr th {\n",
              "        vertical-align: top;\n",
              "    }\n",
              "\n",
              "    .dataframe thead th {\n",
              "        text-align: right;\n",
              "    }\n",
              "</style>\n",
              "<table border=\"1\" class=\"dataframe\">\n",
              "  <thead>\n",
              "    <tr style=\"text-align: right;\">\n",
              "      <th></th>\n",
              "      <th>Date</th>\n",
              "      <th>Views_show</th>\n",
              "      <th>Visitors</th>\n",
              "      <th>Views_platform</th>\n",
              "      <th>Cricket_match_india</th>\n",
              "      <th>Character_A</th>\n",
              "      <th>Day</th>\n",
              "      <th>Day_name</th>\n",
              "      <th>Weekdend</th>\n",
              "      <th>Ad_impression_million</th>\n",
              "    </tr>\n",
              "  </thead>\n",
              "  <tbody>\n",
              "    <tr>\n",
              "      <th>0</th>\n",
              "      <td>2017-03-01</td>\n",
              "      <td>183738</td>\n",
              "      <td>1260228</td>\n",
              "      <td>1706478</td>\n",
              "      <td>0</td>\n",
              "      <td>0</td>\n",
              "      <td>1</td>\n",
              "      <td>Wednesday</td>\n",
              "      <td>0</td>\n",
              "      <td>1060.860448</td>\n",
              "    </tr>\n",
              "    <tr>\n",
              "      <th>1</th>\n",
              "      <td>2017-03-02</td>\n",
              "      <td>193763</td>\n",
              "      <td>1270561</td>\n",
              "      <td>1690727</td>\n",
              "      <td>0</td>\n",
              "      <td>0</td>\n",
              "      <td>2</td>\n",
              "      <td>Thursday</td>\n",
              "      <td>0</td>\n",
              "      <td>1031.846645</td>\n",
              "    </tr>\n",
              "    <tr>\n",
              "      <th>2</th>\n",
              "      <td>2017-03-03</td>\n",
              "      <td>210479</td>\n",
              "      <td>1248183</td>\n",
              "      <td>1726157</td>\n",
              "      <td>0</td>\n",
              "      <td>0</td>\n",
              "      <td>3</td>\n",
              "      <td>Friday</td>\n",
              "      <td>0</td>\n",
              "      <td>1010.867575</td>\n",
              "    </tr>\n",
              "    <tr>\n",
              "      <th>3</th>\n",
              "      <td>2017-03-04</td>\n",
              "      <td>240061</td>\n",
              "      <td>1492913</td>\n",
              "      <td>1855353</td>\n",
              "      <td>1</td>\n",
              "      <td>0</td>\n",
              "      <td>4</td>\n",
              "      <td>Saturday</td>\n",
              "      <td>1</td>\n",
              "      <td>1079.194579</td>\n",
              "    </tr>\n",
              "    <tr>\n",
              "      <th>4</th>\n",
              "      <td>2017-03-05</td>\n",
              "      <td>446314</td>\n",
              "      <td>1594712</td>\n",
              "      <td>2041418</td>\n",
              "      <td>0</td>\n",
              "      <td>0</td>\n",
              "      <td>5</td>\n",
              "      <td>Sunday</td>\n",
              "      <td>1</td>\n",
              "      <td>1357.736987</td>\n",
              "    </tr>\n",
              "  </tbody>\n",
              "</table>\n",
              "</div>"
            ],
            "text/plain": [
              "        Date  Views_show  Visitors  ...   Day_name  Weekdend  Ad_impression_million\n",
              "0 2017-03-01      183738   1260228  ...  Wednesday         0            1060.860448\n",
              "1 2017-03-02      193763   1270561  ...   Thursday         0            1031.846645\n",
              "2 2017-03-03      210479   1248183  ...     Friday         0            1010.867575\n",
              "3 2017-03-04      240061   1492913  ...   Saturday         1            1079.194579\n",
              "4 2017-03-05      446314   1594712  ...     Sunday         1            1357.736987\n",
              "\n",
              "[5 rows x 10 columns]"
            ]
          },
          "metadata": {
            "tags": []
          },
          "execution_count": 121
        }
      ]
    },
    {
      "cell_type": "code",
      "metadata": {
        "id": "-xdr4QculoKJ"
      },
      "source": [
        "df['week']=df['Date'].dt.week"
      ],
      "execution_count": 126,
      "outputs": []
    },
    {
      "cell_type": "markdown",
      "metadata": {
        "id": "1Txs1PK_oNxD"
      },
      "source": [
        "## getting data for Ad_impressions and Views shows as per week"
      ]
    },
    {
      "cell_type": "code",
      "metadata": {
        "id": "1BmeOr30mHVJ"
      },
      "source": [
        "df1=pd.DataFrame()\n",
        "df1['Ad_impression_million_weekly_groth']=df.groupby('week')['Ad_impression_million'].sum().pct_change()*100\n",
        "df1['Views_show_weekly']=df.groupby('week')['Views_show'].sum()"
      ],
      "execution_count": 135,
      "outputs": []
    },
    {
      "cell_type": "code",
      "metadata": {
        "id": "DrKFlC_BmT_r",
        "outputId": "793ab61b-fc65-454a-849f-a4c1080fe960",
        "colab": {
          "base_uri": "https://localhost:8080/",
          "height": 379
        }
      },
      "source": [
        "df1.head(10)"
      ],
      "execution_count": 136,
      "outputs": [
        {
          "output_type": "execute_result",
          "data": {
            "text/html": [
              "<div>\n",
              "<style scoped>\n",
              "    .dataframe tbody tr th:only-of-type {\n",
              "        vertical-align: middle;\n",
              "    }\n",
              "\n",
              "    .dataframe tbody tr th {\n",
              "        vertical-align: top;\n",
              "    }\n",
              "\n",
              "    .dataframe thead th {\n",
              "        text-align: right;\n",
              "    }\n",
              "</style>\n",
              "<table border=\"1\" class=\"dataframe\">\n",
              "  <thead>\n",
              "    <tr style=\"text-align: right;\">\n",
              "      <th></th>\n",
              "      <th>Ad_impression_million_weekly_groth</th>\n",
              "      <th>Views_show_weekly</th>\n",
              "    </tr>\n",
              "    <tr>\n",
              "      <th>week</th>\n",
              "      <th></th>\n",
              "      <th></th>\n",
              "    </tr>\n",
              "  </thead>\n",
              "  <tbody>\n",
              "    <tr>\n",
              "      <th>9</th>\n",
              "      <td>NaN</td>\n",
              "      <td>1274355</td>\n",
              "    </tr>\n",
              "    <tr>\n",
              "      <th>10</th>\n",
              "      <td>44.335303</td>\n",
              "      <td>1786676</td>\n",
              "    </tr>\n",
              "    <tr>\n",
              "      <th>11</th>\n",
              "      <td>12.545282</td>\n",
              "      <td>1663495</td>\n",
              "    </tr>\n",
              "    <tr>\n",
              "      <th>12</th>\n",
              "      <td>22.588707</td>\n",
              "      <td>1962729</td>\n",
              "    </tr>\n",
              "    <tr>\n",
              "      <th>13</th>\n",
              "      <td>15.737253</td>\n",
              "      <td>2774724</td>\n",
              "    </tr>\n",
              "    <tr>\n",
              "      <th>14</th>\n",
              "      <td>0.214422</td>\n",
              "      <td>2634495</td>\n",
              "    </tr>\n",
              "    <tr>\n",
              "      <th>15</th>\n",
              "      <td>-13.664787</td>\n",
              "      <td>2552385</td>\n",
              "    </tr>\n",
              "    <tr>\n",
              "      <th>16</th>\n",
              "      <td>-5.623470</td>\n",
              "      <td>2248940</td>\n",
              "    </tr>\n",
              "    <tr>\n",
              "      <th>17</th>\n",
              "      <td>-8.607005</td>\n",
              "      <td>1913677</td>\n",
              "    </tr>\n",
              "    <tr>\n",
              "      <th>18</th>\n",
              "      <td>1.709556</td>\n",
              "      <td>1764662</td>\n",
              "    </tr>\n",
              "  </tbody>\n",
              "</table>\n",
              "</div>"
            ],
            "text/plain": [
              "      Ad_impression_million_weekly_groth  Views_show_weekly\n",
              "week                                                       \n",
              "9                                    NaN            1274355\n",
              "10                             44.335303            1786676\n",
              "11                             12.545282            1663495\n",
              "12                             22.588707            1962729\n",
              "13                             15.737253            2774724\n",
              "14                              0.214422            2634495\n",
              "15                            -13.664787            2552385\n",
              "16                             -5.623470            2248940\n",
              "17                             -8.607005            1913677\n",
              "18                              1.709556            1764662"
            ]
          },
          "metadata": {
            "tags": []
          },
          "execution_count": 136
        }
      ]
    },
    {
      "cell_type": "markdown",
      "metadata": {
        "id": "4j6Y59sCoaYt"
      },
      "source": [
        "and we can observe at week 13 the views are at peak and as the week is passing by the Ad_impressions are also reducing.<br> so to get more views the marketing budget needs to be improved on Ad_impressions"
      ]
    },
    {
      "cell_type": "code",
      "metadata": {
        "id": "2g4RHkYApO_m"
      },
      "source": [
        ""
      ],
      "execution_count": null,
      "outputs": []
    }
  ]
}